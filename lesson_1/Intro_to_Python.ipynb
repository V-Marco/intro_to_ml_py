{
 "cells": [
  {
   "cell_type": "markdown",
   "metadata": {},
   "source": [
    "## Введение в анализ данных и машинное обучение на Python"
   ]
  },
  {
   "cell_type": "markdown",
   "metadata": {},
   "source": [
    "### Занятие 1: Введение в Python (версия от 05 октября 2019)"
   ]
  },
  {
   "cell_type": "markdown",
   "metadata": {},
   "source": [
    "_Лучший друг программиста – ...?_"
   ]
  },
  {
   "cell_type": "markdown",
   "metadata": {},
   "source": [
    "---"
   ]
  },
  {
   "cell_type": "markdown",
   "metadata": {},
   "source": [
    "#### Часть 0: Тетрадка Jupyter Notebook\n",
    "Краткие напоминания:\n",
    "- Сейчас мы работаем в тетрадке `Jupyter Notebook`. Все тетрадки должны иметь расширение `.ipynb`\n",
    "- В тетрадках код и текст пишутся в клеточках. Чтобы создать новую клеточку, нажмите на значок `\"+\"` вверху страницы. Чтобы изменить созданную клетку, два раза нажмите на неё левой кнопкой мыши.\n",
    "- Чтобы запустить ячейку, убедитесь, что курсор находится в ней, а затем нажмите на кнопку `\"Run\"` вверху страницы (или комбинацию `Shift-Enter` на клавиатуре). Если в ячейке написан код, то начнётся его выполнение. Если в ячейке написан текст, то начнётся его обработка. Чтобы остановить выполнение ячейки (например, если запущен длинный цикл), нажмите на значок `\"Stop\"` вверху страницы).\n",
    "- Чтобы писать в ячейках код, убедитесь, что в выпадающем списке вверху страницы выбран раздел `\"Code`\". Чтобы писать в ячейках текст, выберите в этом списке `\"Markdown\"`. По умолчанию новые ячейки создаются с разделом \"Code\".\n",
    "- Числа в квадратных скобках слева от ячеек показывают номер запуска ячейки по порядку. Например, `In[3]` означает, что данная ячейка – это третья запущенная по порядку ячейка. Запуск одной и той же ячейки два раза тоже увеличивает номер (воспринимаются как разные ячейки)."
   ]
  },
  {
   "cell_type": "markdown",
   "metadata": {},
   "source": [
    "#### Часть 1: Markdown"
   ]
  },
  {
   "cell_type": "markdown",
   "metadata": {},
   "source": [
    "__Markdown__ – язык разметки, который удобно использовать для оформления текста. Поддерживаются базовые операции форматирования (выделение жирным, курсивом и проч.), а также LaTex."
   ]
  },
  {
   "cell_type": "markdown",
   "metadata": {},
   "source": [
    "[Полезные материалы, но на английском](https://github.com/adam-p/markdown-here/wiki/Markdown-Cheatsheet)"
   ]
  },
  {
   "cell_type": "markdown",
   "metadata": {},
   "source": [
    "Ввод текста: какой-то текст."
   ]
  },
  {
   "cell_type": "markdown",
   "metadata": {},
   "source": [
    "Какой-то текст на Markdown"
   ]
  },
  {
   "cell_type": "markdown",
   "metadata": {},
   "source": [
    "Жирный текст: __какой-то жирный текст__ \n",
    "\n",
    "**Другой жирный текст**"
   ]
  },
  {
   "cell_type": "markdown",
   "metadata": {},
   "source": [
    "Для перехода на новую строку, оставьте пустую строку (см. пример с жирным текстом выше)."
   ]
  },
  {
   "cell_type": "markdown",
   "metadata": {},
   "source": [
    "Курсивный текст: _курсивный текст_\n",
    "\n",
    "*другой курсивный текст*"
   ]
  },
  {
   "cell_type": "markdown",
   "metadata": {},
   "source": [
    "Маркированный список:\n",
    "- пункт 1\n",
    "- пункт 2\n",
    "- ещё один пункт"
   ]
  },
  {
   "cell_type": "markdown",
   "metadata": {},
   "source": [
    "Нумерованный список:\n",
    "1. пункт 1\n",
    "2. пункт 2\n",
    "3. пункт 3"
   ]
  },
  {
   "cell_type": "markdown",
   "metadata": {},
   "source": [
    "Код: как мы видим, модель `Linear Model 1` показала лучший результат."
   ]
  },
  {
   "cell_type": "markdown",
   "metadata": {},
   "source": [
    "Ссылки: [это очень полезный сайт](https://www.google.com)."
   ]
  },
  {
   "cell_type": "markdown",
   "metadata": {},
   "source": [
    "LaTex ([статья в Википедии](https://ru.wikipedia.org/wiki/LaTeX)):\n",
    "\n",
    "__LaTex__ – язык разметки, позволяющий набирать сложные типографские документы, в которых, в частности, присутствует математика. Для нашего курса нам могут потребоваться базовые возможности LaTex, например, аккуратный ввод формул.\n",
    "\n",
    "Строковые формулы: $x + y = 3$. \n",
    "\n",
    "Выносные формулы:\n",
    "$$y(x) = x^2 + 2x + 3$$ \n",
    "\n",
    "$$\\frac{3+x}{2-x}$$ \n",
    "\n",
    "$$X_i^7$$"
   ]
  },
  {
   "cell_type": "markdown",
   "metadata": {},
   "source": [
    "$$Y_{2n + 2}^{3x+8}$$"
   ]
  },
  {
   "cell_type": "markdown",
   "metadata": {},
   "source": [
    "---"
   ]
  },
  {
   "cell_type": "markdown",
   "metadata": {},
   "source": [
    "#### Часть 2: Переменные"
   ]
  },
  {
   "cell_type": "code",
   "execution_count": 1,
   "metadata": {},
   "outputs": [],
   "source": [
    "# Комментарий\n",
    "a = 3\n",
    "b = 7\n",
    "c = a + b"
   ]
  },
  {
   "cell_type": "code",
   "execution_count": 6,
   "metadata": {},
   "outputs": [
    {
     "name": "stdout",
     "output_type": "stream",
     "text": [
      "10\n"
     ]
    },
    {
     "data": {
      "text/plain": [
       "7"
      ]
     },
     "execution_count": 6,
     "metadata": {},
     "output_type": "execute_result"
    }
   ],
   "source": [
    "print(c) # Вывести значение переменной\n",
    "a\n",
    "b # Если написать название переменной в конце клеточки, будет выведено её значение"
   ]
  },
  {
   "cell_type": "markdown",
   "metadata": {},
   "source": [
    "__Упражнение:__ присвойте переменной `sweets` значение 5, а переменной `cakes` значение 2. Найдите их:\n",
    "- сумму, разность, произведение, частное, \n",
    "- целую часть от деления, остаток от деления.\n",
    "\n",
    "Выведите результаты."
   ]
  },
  {
   "cell_type": "code",
   "execution_count": 9,
   "metadata": {},
   "outputs": [
    {
     "name": "stdout",
     "output_type": "stream",
     "text": [
      "Сумма: 7\n",
      "Разность: 3\n",
      "Произведение: 10\n",
      "Частное: 2.5\n"
     ]
    }
   ],
   "source": [
    "sweets = 5\n",
    "cakes = 2\n",
    "print(\"Сумма:\", sweets + cakes)\n",
    "print('Разность:', sweets - cakes)\n",
    "print(\"Произведение:\", sweets * cakes)\n",
    "print(\"Частное:\", sweets / cakes)"
   ]
  },
  {
   "cell_type": "code",
   "execution_count": 12,
   "metadata": {},
   "outputs": [
    {
     "name": "stdout",
     "output_type": "stream",
     "text": [
      "Целая часть от деления: 2\n",
      "Остаток от деления: 1\n"
     ]
    }
   ],
   "source": [
    "print(\"Целая часть от деления:\", sweets // cakes)\n",
    "print(\"Остаток от деления:\", sweets % cakes)"
   ]
  },
  {
   "cell_type": "markdown",
   "metadata": {},
   "source": [
    "Типы данных:\n",
    "- None\n",
    "- Boolean\n",
    "- Numeric (`int`, `float`)\n",
    "- Sequence (`list`, `tuple`, `range`, `str`)\n",
    "- Set (`set`, `frozenset`)\n",
    "- Dictionary (`dict`)\n",
    "- и др."
   ]
  },
  {
   "cell_type": "markdown",
   "metadata": {},
   "source": [
    "__Упражение__: создайте переменные следующих типов данных:"
   ]
  },
  {
   "cell_type": "code",
   "execution_count": 16,
   "metadata": {},
   "outputs": [
    {
     "name": "stdout",
     "output_type": "stream",
     "text": [
      "None\n"
     ]
    }
   ],
   "source": [
    "# None\n",
    "a = None\n",
    "print(a)"
   ]
  },
  {
   "cell_type": "code",
   "execution_count": 19,
   "metadata": {},
   "outputs": [
    {
     "data": {
      "text/plain": [
       "False"
      ]
     },
     "execution_count": 19,
     "metadata": {},
     "output_type": "execute_result"
    }
   ],
   "source": [
    "# Boolean (логические переменные: True и False)\n",
    "c = True\n",
    "d = False"
   ]
  },
  {
   "cell_type": "code",
   "execution_count": 22,
   "metadata": {},
   "outputs": [
    {
     "data": {
      "text/plain": [
       "True"
      ]
     },
     "execution_count": 22,
     "metadata": {},
     "output_type": "execute_result"
    }
   ],
   "source": [
    "a = 5\n",
    "c = 3 == 4 # Положи в переменную c результат сравнения 3 и 4\n",
    "q = 3 == 3 # Положи в переменную q результат сравнения 3 и 3\n",
    "q"
   ]
  },
  {
   "cell_type": "code",
   "execution_count": 27,
   "metadata": {},
   "outputs": [
    {
     "data": {
      "text/plain": [
       "6"
      ]
     },
     "execution_count": 27,
     "metadata": {},
     "output_type": "execute_result"
    }
   ],
   "source": [
    "a = 5\n",
    "a = True # True = 1, False = 0 (воспринимаются как числа 1 и 0)\n",
    "a + 5"
   ]
  },
  {
   "cell_type": "code",
   "execution_count": 28,
   "metadata": {},
   "outputs": [],
   "source": [
    "# Numeric (int и float)\n",
    "a = 5 # Numeric (int)\n",
    "b = 6.7 # Numeric (float)"
   ]
  },
  {
   "cell_type": "code",
   "execution_count": 29,
   "metadata": {},
   "outputs": [
    {
     "data": {
      "text/plain": [
       "'Hello!'"
      ]
     },
     "execution_count": 29,
     "metadata": {},
     "output_type": "execute_result"
    }
   ],
   "source": [
    "# Str\n",
    "c = \"Hello!\" # Можно использовать как одинарные, так и двойные кавычки\n",
    "c"
   ]
  },
  {
   "cell_type": "markdown",
   "metadata": {},
   "source": [
    "Заметьте, что переменная `c` ранее была типа `Boolean`, а теперь стала типа `str`. `Python` позволяет перезаписывать в переменные значения разных типов, так как является языком с _динамической типизацией_. В некоторых других языках программирования (например, `Swift`) тип переменной указывается при её создании, и нельзя присвоить ей значение другого типа, – это языки со _статической типизацией_."
   ]
  },
  {
   "cell_type": "markdown",
   "metadata": {},
   "source": [
    "---"
   ]
  },
  {
   "cell_type": "markdown",
   "metadata": {},
   "source": [
    "#### Часть 3: Коллекции"
   ]
  },
  {
   "cell_type": "markdown",
   "metadata": {},
   "source": [
    "Коллекции:\n",
    "1. Последовательности (`sequences`):\n",
    "    - Изменяемые (`list`)\n",
    "    - Неизменяемые (`str`, `tuple`)\n",
    "2. Множества:\n",
    "    - Изменяемые (`set`)\n",
    "    - Неизменяемые (`frozenset`)\n",
    "3. Словари (`dict`)\n",
    "\n",
    "Коллекция – модель, абстрактное понятие.\n",
    "\n",
    "`list`, `str`, `tuple` и т.д. – типы данных.\n",
    "\n",
    "Например, коллекция \"Изменяемая последовательность\" в `Python` реализуется типом данных `list`. А коллекция \"Изменяемое множество\" в `Python` реализуется типом данных `set`.\n",
    "\n",
    "У каждого типа данных есть свои __методы__."
   ]
  },
  {
   "cell_type": "markdown",
   "metadata": {},
   "source": [
    "#### 3.1 Списки (`lists`)"
   ]
  },
  {
   "cell_type": "code",
   "execution_count": 31,
   "metadata": {},
   "outputs": [
    {
     "data": {
      "text/plain": [
       "[1, 2, 3]"
      ]
     },
     "execution_count": 31,
     "metadata": {},
     "output_type": "execute_result"
    }
   ],
   "source": [
    "list_of_numbers = [1, 2, 3]\n",
    "list_of_numbers"
   ]
  },
  {
   "cell_type": "code",
   "execution_count": 35,
   "metadata": {},
   "outputs": [],
   "source": [
    "# 2 способа создания пустых списков\n",
    "another_list = list() \n",
    "third_list = []"
   ]
  },
  {
   "cell_type": "code",
   "execution_count": 2,
   "metadata": {},
   "outputs": [
    {
     "data": {
      "text/plain": [
       "[1, 2, 'Hello', 5, [7, 5]]"
      ]
     },
     "execution_count": 2,
     "metadata": {},
     "output_type": "execute_result"
    }
   ],
   "source": [
    "# В списках могут хрниться переменные разных типов, но это не рекомендуется\n",
    "list_of_different_items = [1, 2, 'Hello', 5, [7, 5]]\n",
    "list_of_different_items"
   ]
  },
  {
   "cell_type": "markdown",
   "metadata": {},
   "source": [
    "__Упражение__: создайте следующие списки:\n",
    "- Список из натуральных чисел от 1 до 3.\n",
    "- Список из первых пяти букв алфавита.\n",
    "- Список, содержащий два других списка.\n",
    "- Список, содержащий разные типы данных.\n",
    "\n",
    "Найдите длину (число элементов) одного из созданных списков. "
   ]
  },
  {
   "cell_type": "code",
   "execution_count": 3,
   "metadata": {},
   "outputs": [
    {
     "data": {
      "text/plain": [
       "[1, 2, 'Hello', 5, [7, 5]]"
      ]
     },
     "execution_count": 3,
     "metadata": {},
     "output_type": "execute_result"
    }
   ],
   "source": [
    "natural_numbers = [1, 2, 3]\n",
    "first_five_letters = ['a', 'b', 'c', 'd', 'e']\n",
    "list_with_other_two_lists = [[1, 2], ['a', 'b']]\n",
    "list_of_different_items"
   ]
  },
  {
   "cell_type": "code",
   "execution_count": 4,
   "metadata": {},
   "outputs": [
    {
     "data": {
      "text/plain": [
       "3"
      ]
     },
     "execution_count": 4,
     "metadata": {},
     "output_type": "execute_result"
    }
   ],
   "source": [
    "len(natural_numbers) # len() позволяет узнать длину списка"
   ]
  },
  {
   "cell_type": "markdown",
   "metadata": {},
   "source": [
    "Нужные нам методы списков:\n",
    "- `.append(element)` – добавляет элемент в конец списка.\n",
    "- `.copy()` – создаёт копию списка (важно!).\n",
    "- `.count(value)` – выдаёт число раз, которое `value` входит в список.\n",
    "- `.sort()` – сортировка списка. "
   ]
  },
  {
   "cell_type": "code",
   "execution_count": 44,
   "metadata": {},
   "outputs": [
    {
     "data": {
      "text/plain": [
       "[1, 2, 3]"
      ]
     },
     "execution_count": 44,
     "metadata": {},
     "output_type": "execute_result"
    }
   ],
   "source": [
    "natural_numbers"
   ]
  },
  {
   "cell_type": "code",
   "execution_count": 45,
   "metadata": {},
   "outputs": [
    {
     "data": {
      "text/plain": [
       "[1, 2, 3, 4]"
      ]
     },
     "execution_count": 45,
     "metadata": {},
     "output_type": "execute_result"
    }
   ],
   "source": [
    "natural_numbers.append(4)\n",
    "natural_numbers"
   ]
  },
  {
   "cell_type": "code",
   "execution_count": 5,
   "metadata": {},
   "outputs": [],
   "source": [
    "a = [1, 2, 3]\n",
    "b = a # Переменная b ссылается на ту же ячейку в памяти, что и переменная a\n",
    "b.append(4) "
   ]
  },
  {
   "cell_type": "code",
   "execution_count": 6,
   "metadata": {},
   "outputs": [
    {
     "data": {
      "text/plain": [
       "[1, 2, 3, 4]"
      ]
     },
     "execution_count": 6,
     "metadata": {},
     "output_type": "execute_result"
    }
   ],
   "source": [
    "b"
   ]
  },
  {
   "cell_type": "code",
   "execution_count": 7,
   "metadata": {},
   "outputs": [
    {
     "data": {
      "text/plain": [
       "[1, 2, 3, 4]"
      ]
     },
     "execution_count": 7,
     "metadata": {},
     "output_type": "execute_result"
    }
   ],
   "source": [
    "a # Поэтому при изменении переменной b, изменяется и переменная a"
   ]
  },
  {
   "cell_type": "code",
   "execution_count": 8,
   "metadata": {},
   "outputs": [],
   "source": [
    "c = a.copy() # .copy() копирует данные, лежащие в ячейке, на которую\n",
    "# ссылается переменная a, в другую ячейку, и заставляет переменную c ссылаться на неё\n",
    "c.append(5)"
   ]
  },
  {
   "cell_type": "code",
   "execution_count": 9,
   "metadata": {},
   "outputs": [
    {
     "data": {
      "text/plain": [
       "[1, 2, 3, 4, 5]"
      ]
     },
     "execution_count": 9,
     "metadata": {},
     "output_type": "execute_result"
    }
   ],
   "source": [
    "c"
   ]
  },
  {
   "cell_type": "code",
   "execution_count": 10,
   "metadata": {},
   "outputs": [
    {
     "data": {
      "text/plain": [
       "[1, 2, 3, 4]"
      ]
     },
     "execution_count": 10,
     "metadata": {},
     "output_type": "execute_result"
    }
   ],
   "source": [
    "a # Поэтому теперь при изменении переменной c переменная a не меняется"
   ]
  },
  {
   "cell_type": "code",
   "execution_count": 53,
   "metadata": {},
   "outputs": [
    {
     "data": {
      "text/plain": [
       "1"
      ]
     },
     "execution_count": 53,
     "metadata": {},
     "output_type": "execute_result"
    }
   ],
   "source": [
    "a.count(3)"
   ]
  },
  {
   "cell_type": "code",
   "execution_count": 56,
   "metadata": {},
   "outputs": [
    {
     "data": {
      "text/plain": [
       "[1, 2, 3, 4, 5]"
      ]
     },
     "execution_count": 56,
     "metadata": {},
     "output_type": "execute_result"
    }
   ],
   "source": [
    "unordered_list = [4, 5, 3, 2, 1]\n",
    "unordered_list.sort()\n",
    "unordered_list"
   ]
  },
  {
   "cell_type": "markdown",
   "metadata": {},
   "source": [
    "Индексирование:\n",
    "`a[1]`, `a[2:3]`, `a[-1]`."
   ]
  },
  {
   "cell_type": "code",
   "execution_count": 58,
   "metadata": {},
   "outputs": [
    {
     "data": {
      "text/plain": [
       "[1, 2, 3, 4]"
      ]
     },
     "execution_count": 58,
     "metadata": {},
     "output_type": "execute_result"
    }
   ],
   "source": [
    "a"
   ]
  },
  {
   "cell_type": "code",
   "execution_count": 57,
   "metadata": {},
   "outputs": [
    {
     "data": {
      "text/plain": [
       "1"
      ]
     },
     "execution_count": 57,
     "metadata": {},
     "output_type": "execute_result"
    }
   ],
   "source": [
    "a[0] # Индексирование начинается с 0: первый элемент списка имеет индекс 0"
   ]
  },
  {
   "cell_type": "code",
   "execution_count": 59,
   "metadata": {},
   "outputs": [
    {
     "data": {
      "text/plain": [
       "4"
      ]
     },
     "execution_count": 59,
     "metadata": {},
     "output_type": "execute_result"
    }
   ],
   "source": [
    "a[3]"
   ]
  },
  {
   "cell_type": "code",
   "execution_count": 60,
   "metadata": {},
   "outputs": [
    {
     "data": {
      "text/plain": [
       "4"
      ]
     },
     "execution_count": 60,
     "metadata": {},
     "output_type": "execute_result"
    }
   ],
   "source": [
    "a[-1] # Последний элемент списка"
   ]
  },
  {
   "cell_type": "code",
   "execution_count": 61,
   "metadata": {},
   "outputs": [
    {
     "data": {
      "text/plain": [
       "3"
      ]
     },
     "execution_count": 61,
     "metadata": {},
     "output_type": "execute_result"
    }
   ],
   "source": [
    "a[-2] # Предпоследний элемент списка"
   ]
  },
  {
   "cell_type": "code",
   "execution_count": 62,
   "metadata": {},
   "outputs": [
    {
     "data": {
      "text/plain": [
       "[1, 2]"
      ]
     },
     "execution_count": 62,
     "metadata": {},
     "output_type": "execute_result"
    }
   ],
   "source": [
    "a[0:2] # Все элементы с индексами от 0 до (2-1). \n",
    "# В общем случае, [a:b] – все элементы списка с индексами от a до (b-1)"
   ]
  },
  {
   "cell_type": "code",
   "execution_count": 63,
   "metadata": {},
   "outputs": [
    {
     "data": {
      "text/plain": [
       "[3, 4]"
      ]
     },
     "execution_count": 63,
     "metadata": {},
     "output_type": "execute_result"
    }
   ],
   "source": [
    "a[2:] # Все элементы, начиная с элемента с индексом 2, до конца списка"
   ]
  },
  {
   "cell_type": "code",
   "execution_count": 64,
   "metadata": {},
   "outputs": [],
   "source": [
    "a = [1, [1, 2]]"
   ]
  },
  {
   "cell_type": "code",
   "execution_count": 65,
   "metadata": {},
   "outputs": [
    {
     "data": {
      "text/plain": [
       "2"
      ]
     },
     "execution_count": 65,
     "metadata": {},
     "output_type": "execute_result"
    }
   ],
   "source": [
    "a[1][1] # Можно индексировать объекты внутри других объектов"
   ]
  },
  {
   "cell_type": "markdown",
   "metadata": {},
   "source": [
    "#### 3.2 Строки (`str`)"
   ]
  },
  {
   "cell_type": "code",
   "execution_count": null,
   "metadata": {},
   "outputs": [],
   "source": [
    "text_oneline = 'Это текст на одну строку!'\n",
    "text_multiline = '''А это текст\n",
    "на несколько строк!\n",
    "'''"
   ]
  },
  {
   "cell_type": "markdown",
   "metadata": {},
   "source": [
    "Сложение и умножение строк: "
   ]
  },
  {
   "cell_type": "code",
   "execution_count": null,
   "metadata": {},
   "outputs": [],
   "source": []
  },
  {
   "cell_type": "markdown",
   "metadata": {},
   "source": [
    "Индексирование строк:"
   ]
  },
  {
   "cell_type": "code",
   "execution_count": null,
   "metadata": {},
   "outputs": [],
   "source": []
  },
  {
   "cell_type": "markdown",
   "metadata": {},
   "source": [
    "Длина строки:"
   ]
  },
  {
   "cell_type": "code",
   "execution_count": null,
   "metadata": {},
   "outputs": [],
   "source": []
  },
  {
   "cell_type": "markdown",
   "metadata": {},
   "source": [
    "Нужные нам методы строк:\n",
    "- `.find(element)` – возвращает индекс первого вхождения `element` (или -1).\n",
    "- `.rfind(element)` – возвращает индекс последнего вхождения `element` (или -1).\n",
    "- `.split(element)` – разделение строки по `element`."
   ]
  },
  {
   "cell_type": "code",
   "execution_count": null,
   "metadata": {},
   "outputs": [],
   "source": []
  },
  {
   "cell_type": "markdown",
   "metadata": {},
   "source": [
    "#### 3.3 Кортежи (`tuples`) "
   ]
  },
  {
   "cell_type": "code",
   "execution_count": null,
   "metadata": {},
   "outputs": [],
   "source": []
  },
  {
   "cell_type": "markdown",
   "metadata": {},
   "source": [
    "Индексирование:"
   ]
  },
  {
   "cell_type": "code",
   "execution_count": null,
   "metadata": {},
   "outputs": [],
   "source": []
  },
  {
   "cell_type": "markdown",
   "metadata": {},
   "source": [
    "#### 3.4 Множества (`sets`)"
   ]
  },
  {
   "cell_type": "code",
   "execution_count": null,
   "metadata": {},
   "outputs": [],
   "source": []
  },
  {
   "cell_type": "markdown",
   "metadata": {},
   "source": [
    "Нужные нам методы множеств:\n",
    "- `.add(element)` – добавляет элемент в множество. \n",
    "- `.update([a, b, c])` – добавляет несколько элементов в множество.\n",
    "- `.remove(element)` и `.discard(element)`– удаляет элемент из множества (`.discard()` не выдаёт ошибку).\n",
    "- `.union(set2)` – возвращает объединение с `set2`.\n",
    "- `intersection(set2)` – возвращает пересечение с `set2`."
   ]
  },
  {
   "cell_type": "markdown",
   "metadata": {},
   "source": [
    "#### 3.5 Словари (`dictionaries`) "
   ]
  },
  {
   "cell_type": "markdown",
   "metadata": {},
   "source": [
    "`dict()` – пустой словарь."
   ]
  },
  {
   "cell_type": "code",
   "execution_count": null,
   "metadata": {},
   "outputs": [],
   "source": []
  },
  {
   "cell_type": "markdown",
   "metadata": {},
   "source": [
    "Нужные нам методы словарей:\n",
    "- `.keys()` – возвращает список с ключами словаря. \n",
    "- `.values()` – возвращает список со значениями словаря."
   ]
  },
  {
   "cell_type": "markdown",
   "metadata": {},
   "source": [
    "---"
   ]
  },
  {
   "cell_type": "markdown",
   "metadata": {},
   "source": [
    "#### Часть 4: Операторы и циклы"
   ]
  },
  {
   "cell_type": "markdown",
   "metadata": {},
   "source": [
    "#### 4.1 if ... elif ... else"
   ]
  },
  {
   "cell_type": "code",
   "execution_count": null,
   "metadata": {},
   "outputs": [],
   "source": []
  },
  {
   "cell_type": "markdown",
   "metadata": {},
   "source": [
    "Важные операторы: \n",
    "- `break` – прерывает выполнение цикла.\n",
    "- `continue` – начинает следующую итерацию цикла."
   ]
  },
  {
   "cell_type": "markdown",
   "metadata": {},
   "source": [
    "#### 4.2 for ... in ..."
   ]
  },
  {
   "cell_type": "code",
   "execution_count": null,
   "metadata": {},
   "outputs": [],
   "source": []
  },
  {
   "cell_type": "markdown",
   "metadata": {},
   "source": [
    "#### 4.3 for ... in range(...)"
   ]
  },
  {
   "cell_type": "code",
   "execution_count": null,
   "metadata": {},
   "outputs": [],
   "source": []
  },
  {
   "cell_type": "markdown",
   "metadata": {},
   "source": [
    "#### 4.4 while ..."
   ]
  },
  {
   "cell_type": "code",
   "execution_count": null,
   "metadata": {},
   "outputs": [],
   "source": []
  },
  {
   "cell_type": "markdown",
   "metadata": {},
   "source": [
    "---"
   ]
  },
  {
   "cell_type": "markdown",
   "metadata": {},
   "source": [
    "#### Часть 5: Функции"
   ]
  },
  {
   "cell_type": "markdown",
   "metadata": {},
   "source": [
    "- Документация к функциям: `?...()`\n",
    "- Своя документация: `'''`"
   ]
  },
  {
   "cell_type": "code",
   "execution_count": null,
   "metadata": {},
   "outputs": [],
   "source": [
    "def hello():\n",
    "    print('Hello!')\n",
    "    return(0)"
   ]
  },
  {
   "cell_type": "code",
   "execution_count": null,
   "metadata": {},
   "outputs": [],
   "source": [
    "hello()"
   ]
  },
  {
   "cell_type": "code",
   "execution_count": null,
   "metadata": {},
   "outputs": [],
   "source": []
  },
  {
   "cell_type": "markdown",
   "metadata": {},
   "source": [
    "__Упражнение:__ создайте функцию `print_mult_table()`, выводящую таблицу умножения от 1 до 9."
   ]
  },
  {
   "cell_type": "code",
   "execution_count": null,
   "metadata": {},
   "outputs": [],
   "source": []
  },
  {
   "cell_type": "markdown",
   "metadata": {},
   "source": [
    "__Упражнение__: создайте функцию `get_result(a, b = 3)`, которая находит сумму `a` и `b`, если `a < b` и их произведение в обратном случае. Вызовите функцию:\n",
    "- Задав только значение `a`.\n",
    "- Задав значения и `a`, и `b`."
   ]
  },
  {
   "cell_type": "code",
   "execution_count": null,
   "metadata": {},
   "outputs": [],
   "source": []
  },
  {
   "cell_type": "markdown",
   "metadata": {},
   "source": [
    "__Важно__: локальные (\"внутри\" части кода) и глобальные переменные."
   ]
  },
  {
   "cell_type": "code",
   "execution_count": null,
   "metadata": {},
   "outputs": [],
   "source": []
  },
  {
   "cell_type": "markdown",
   "metadata": {},
   "source": [
    "#### Часть 6: Дополнительные задания"
   ]
  },
  {
   "cell_type": "markdown",
   "metadata": {},
   "source": [
    "I. __Простой временной ряд:__ если мы наблюдаем за одной и той же переменной во времени, то наша выборка называется _временным рядом_. Для анализа временных рядов существуют отдельные методы, которые мы обсудим в середине и конце курса. Пока же мы можем попробовать проанализировать искусственно созданный временной ряд на качественном уровне. Итак, пусть $X_i$ – это наблюдения за температурой (в градусах Цельсия) в некотором месте в день с номером $i$:"
   ]
  },
  {
   "cell_type": "code",
   "execution_count": 2,
   "metadata": {},
   "outputs": [],
   "source": [
    "x = [18, 20, 22, 22, 20, 19, 22, 27, 27, 27, 20, 9,\n",
    "     20, 8, 27, 22, 21, 20, 19, 25, 27, 22, 27, 20, \n",
    "     22, 18, 19, 22, 27, 24, 27, 20, 9, 20, 28, 8, 20, 22]"
   ]
  },
  {
   "cell_type": "markdown",
   "metadata": {},
   "source": [
    "Описательные характеристики:\n",
    "1. Найдите количество наблюдений, используя соответствующую команду.\n",
    "2. Найдите максимальное и минимальное значение температуры за период.\n",
    "3. Найдите арифметическое среднее температуры за период (при помощи цикла)."
   ]
  },
  {
   "cell_type": "code",
   "execution_count": null,
   "metadata": {},
   "outputs": [],
   "source": []
  },
  {
   "cell_type": "code",
   "execution_count": null,
   "metadata": {},
   "outputs": [],
   "source": []
  },
  {
   "cell_type": "code",
   "execution_count": null,
   "metadata": {},
   "outputs": [],
   "source": []
  },
  {
   "cell_type": "markdown",
   "metadata": {},
   "source": [
    "Далее мы будем говорить о том, что выборку перед анализом следует очищать от нетипичных значений – выбросов. Это можно сделать, просто установив нижнюю и вернхнюю границы \"типичности\". Предложите такие границы, обосновав Ваше предложение, и очистите выборку от всех наблюдений, выходящих за их пределы (при помощи цикла)."
   ]
  },
  {
   "cell_type": "code",
   "execution_count": null,
   "metadata": {},
   "outputs": [],
   "source": []
  },
  {
   "cell_type": "markdown",
   "metadata": {},
   "source": [
    "Часто интересно смотреть не на сами значения ряда, а на их изменения, то есть разность последующего значения и предыдущего. Таким образом, мы можем лучше понять динамику наблюдаемой переменной. Напишите функцию `calculate_difference(x)`, которая принимает на вход список с числами любой длины и на возвращает новый список, в котором каждый элемент равен $x_{i+1} - x_i$ (понятно, что длина нового списка будет на 1 меньше, чем длина исходного списка)."
   ]
  },
  {
   "cell_type": "code",
   "execution_count": null,
   "metadata": {},
   "outputs": [],
   "source": [
    "def calculate_difference(x):\n",
    "    \n",
    "    return"
   ]
  },
  {
   "cell_type": "markdown",
   "metadata": {},
   "source": [
    "Прокомментируйте полученные результаты."
   ]
  },
  {
   "cell_type": "markdown",
   "metadata": {},
   "source": [
    "II. __Исследовательское задание__: бесстрашная исследовательница Алевтина составляет список стран, в которых ей бы хотелось исследовать зависимость ВВП и инфляции. После долгих раздумий, она остановилась на следующих вариантах:"
   ]
  },
  {
   "cell_type": "code",
   "execution_count": null,
   "metadata": {},
   "outputs": [],
   "source": [
    "countries = ['Russia', 'France', 'Great Britain', 'USA', 'Korea', 'Thailand']"
   ]
  },
  {
   "cell_type": "markdown",
   "metadata": {},
   "source": [
    "1. Как известно, любой анализ данных начинается с их сбора. Воспользуйтесь веб-сайтом [Всемирного банка](https://data.worldbank.org), чтобы найти значения ВВП (в долларах США) для данных стран для 2005 года. Подсказка: введите в поле поиска \"GDP Название-страны-из-списка\". Создайте список `gdp`, содержащий найденные данные."
   ]
  },
  {
   "cell_type": "code",
   "execution_count": null,
   "metadata": {},
   "outputs": [],
   "source": [
    "gdp ="
   ]
  },
  {
   "cell_type": "markdown",
   "metadata": {},
   "source": [
    "2. Существует способ создавать словари из двух списков, подробнее о котором мы будем говорить на следующем занятии: `new_dict = {k: v for k, v in zip(keys, values)}`.\n",
    "    По аналогии создайте словарь `data`, в котором ключами будут названия стран, а значениями – найденные значения ВВП. "
   ]
  },
  {
   "cell_type": "code",
   "execution_count": null,
   "metadata": {},
   "outputs": [],
   "source": [
    "data = {}"
   ]
  },
  {
   "cell_type": "markdown",
   "metadata": {},
   "source": [
    "3. В дальнейшем мы изучим более эффективные способы анализа данных при помощи различных библиотек, но пока мы ограничены стандартными средствами Python. Тем не менее, мы уже можем сделать некоторые выводы о полученных данных. Найдите, в какой стране в 2005 году был максимальный ВВП, а в какой – минимальный, итерируясь по созданному словарю `data`."
   ]
  },
  {
   "cell_type": "code",
   "execution_count": null,
   "metadata": {},
   "outputs": [],
   "source": []
  },
  {
   "cell_type": "markdown",
   "metadata": {},
   "source": [
    "Поясните, почему использование циклов может быть неэффективно (мы столкнёмся с этим в дальнейшем). \n",
    "\n",
    "Поясните, почему использование словарей может быть неэффективно (это сложный вопрос, связанный с особенностями Python)."
   ]
  },
  {
   "cell_type": "markdown",
   "metadata": {},
   "source": [
    "4. Запустите код ниже (на данном этапе его понимание не нужно, но уже скоро мы научимся писать и понимать такой код). Если всё сделано правильно, то Вы должны увидеть диаграмму, показывающую значения ВВП для исследуемых стран."
   ]
  },
  {
   "cell_type": "code",
   "execution_count": null,
   "metadata": {},
   "outputs": [],
   "source": [
    "import matplotlib.pyplot as plt\n",
    "plt.bar(range(1,7), gdp, tick_label = countries)\n",
    "plt.title('Значения ВВП для разных стран в 2005 году')\n",
    "plt.ylabel('ВВП($)')"
   ]
  },
  {
   "cell_type": "code",
   "execution_count": null,
   "metadata": {},
   "outputs": [],
   "source": []
  },
  {
   "cell_type": "markdown",
   "metadata": {},
   "source": [
    "Прокомментируйте полученные результаты."
   ]
  }
 ],
 "metadata": {
  "kernelspec": {
   "display_name": "Python 3",
   "language": "python",
   "name": "python3"
  },
  "language_info": {
   "codemirror_mode": {
    "name": "ipython",
    "version": 3
   },
   "file_extension": ".py",
   "mimetype": "text/x-python",
   "name": "python",
   "nbconvert_exporter": "python",
   "pygments_lexer": "ipython3",
   "version": "3.6.6"
  }
 },
 "nbformat": 4,
 "nbformat_minor": 2
}
