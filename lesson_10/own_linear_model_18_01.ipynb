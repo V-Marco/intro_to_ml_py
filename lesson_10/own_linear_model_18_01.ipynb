{
 "cells": [
  {
   "cell_type": "markdown",
   "metadata": {},
   "source": [
    "## Практическое задание 2: Программирование собственной линейной модели"
   ]
  },
  {
   "cell_type": "markdown",
   "metadata": {},
   "source": [
    "---"
   ]
  },
  {
   "cell_type": "code",
   "execution_count": 3,
   "metadata": {},
   "outputs": [],
   "source": [
    "import numpy as np\n",
    "import pandas as pd\n",
    "import matplotlib.pyplot as plt"
   ]
  },
  {
   "cell_type": "markdown",
   "metadata": {},
   "source": [
    "#### Определение модели"
   ]
  },
  {
   "cell_type": "code",
   "execution_count": 64,
   "metadata": {},
   "outputs": [],
   "source": [
    "class MyLinearModel():\n",
    "    \n",
    "    def __init__(self):\n",
    "        print('Linear Model created.')\n",
    "        \n",
    "    def fit_simple_regression(self, X, Y, delta, nstep):\n",
    "        # Теория: Y = beta_0 + beta_1 * X\n",
    "        # X, Y -- векторы\n",
    "        \n",
    "        # Начальные значения\n",
    "        beta_0 = 1\n",
    "        beta_1 = 0\n",
    "        \n",
    "        for i in range(nstep):\n",
    "            Y_hat = beta_0 + beta_1 * X\n",
    "            mse = self.calculate_MSE(Y, Y_hat)\n",
    "            \n",
    "            # beta_0\n",
    "            beta_0_right = beta_0 + delta \n",
    "            beta_0_left = beta_0 - delta\n",
    "            \n",
    "            Y_hat_0_right = beta_0_right + beta_1 * X\n",
    "            Y_hat_0_left = beta_0_left + beta_1 * X\n",
    "            \n",
    "            mse_0_right = self.calculate_MSE(Y, Y_hat_0_right)\n",
    "            mse_0_left = self.calculate_MSE(Y, Y_hat_0_left)\n",
    "            \n",
    "            if mse_0_right < mse:\n",
    "                beta_0 = beta_0_right\n",
    "            elif mse_0_left < mse:\n",
    "                beta_0 = beta_0_left\n",
    "                \n",
    "            # beta_1\n",
    "            beta_1_right = beta_1 + delta \n",
    "            beta_1_left = beta_1 - delta\n",
    "            \n",
    "            Y_hat_1_right = beta_0 + beta_1_right * X\n",
    "            Y_hat_1_left = beta_0 + beta_1_left * X\n",
    "            \n",
    "            mse_1_right = self.calculate_MSE(Y, Y_hat_1_right)\n",
    "            mse_1_left = self.calculate_MSE(Y, Y_hat_1_left)\n",
    "            \n",
    "            if mse_1_right < mse:\n",
    "                beta_1 = beta_1_right\n",
    "            elif mse_1_left < mse:\n",
    "                beta_1 = beta_1_left\n",
    "        # Вне цикла\n",
    "        self.beta_0 = beta_0\n",
    "        self.beta_1 = beta_1\n",
    "        \n",
    "        return [beta_0, beta_1]\n",
    "    \n",
    "    def predict_simple_regression(self, X):\n",
    "        # Теория: hat(Y) = beta_0 + beta_1 * X\n",
    "        try:\n",
    "            return self.beta_0 + self.beta_1 * X\n",
    "        except:\n",
    "            print('Модель не обучена.')\n",
    "            \n",
    "    def fit_multiple_regression(self, X, Y, delta, nstep):\n",
    "        # Теория: Y = X @ beta, Y -- вектор, X -- матрица размера nxk, beta -- вектор kx1\n",
    "        \n",
    "        # Начальное значение beta\n",
    "        beta = np.ones(shape = (X.shape[1], 1))\n",
    "        \n",
    "        for i in range(nstep):\n",
    "            Y_hat = X @ beta\n",
    "            \n",
    "            # (12, 1) и (12, ) -- по мнению NumPy, это разные вещи\n",
    "            \n",
    "            mse = self.calculate_MSE(Y, Y_hat)\n",
    "            \n",
    "            beta_new = np.copy(beta)\n",
    "            i = 0 # индекс коэффициента в векторе beta\n",
    "            \n",
    "            for element in beta:\n",
    "                # Получаю из вектора коэффициентов какой-то коэффициент \n",
    "                beta_interest = element\n",
    "                # Делаю шаг вправо\n",
    "                beta_interest_right = beta_interest + delta\n",
    "                \n",
    "                # Создаю копию вектора коэффициентов (по программным причинам)\n",
    "                beta_interest_vec_right = np.copy(beta)\n",
    "                # Заменяю исследуемый коэффициент на тот, который получили при шаге вправо\n",
    "                beta_interest_vec_right[i] = beta_interest_right\n",
    "                \n",
    "                # Повторяем для шага влево\n",
    "                beta_interest_vec_left = np.copy(beta)\n",
    "                beta_interest_vec_left[i] = beta_interest_left\n",
    "                \n",
    "                Y_hat_right = X @ beta_interest_vec_right\n",
    "                Y_hat_left = X @ beta_interest_vec_left\n",
    "                \n",
    "                mse_right = self.calculate_MSE(Y, Y_hat_right)\n",
    "                mse_left = self.calculate_MSE(Y, Y_hat_left)\n",
    "                \n",
    "                if float(mse_right) < float(mse):\n",
    "                    beta_new[i] = beta_interest_right\n",
    "                if float(mse_left) < float(mse):\n",
    "                    beta_new[i] = beta_interest_left\n",
    "                i += 1\n",
    "            beta = np.copy(beta_new)\n",
    "        self.beta = beta\n",
    "        return beta\n",
    "        \n",
    "    def calculate_MSE(self, Y, Y_hat):\n",
    "        # Y, hat(Y) -- векторы\n",
    "        # Теория: MSE = mean((Y - hat(Y))^2)\n",
    "        return np.mean((Y - Y_hat)**2)"
   ]
  },
  {
   "cell_type": "code",
   "execution_count": 7,
   "metadata": {},
   "outputs": [
    {
     "name": "stdout",
     "output_type": "stream",
     "text": [
      "Linear Model created.\n"
     ]
    }
   ],
   "source": [
    "model = MyLinearModel()"
   ]
  },
  {
   "cell_type": "markdown",
   "metadata": {},
   "source": [
    "#### Генерация случайных данных"
   ]
  },
  {
   "cell_type": "code",
   "execution_count": 29,
   "metadata": {},
   "outputs": [],
   "source": [
    "np.random.seed(123)\n",
    "# Генерирует 100 случайных целых чисел от 1 до 100\n",
    "X = np.random.randint(1, 100, 100)\n",
    "Y = 3 + 2 * X\n",
    "#  Добавим в Y нормально распределённые возмущения eps\n",
    "# Y = beta_0 + beta_1 * X + u\n",
    "# u = eps\n",
    "eps = np.random.normal(0, 1, 100)\n",
    "Y = Y + 6 * eps"
   ]
  },
  {
   "cell_type": "code",
   "execution_count": null,
   "metadata": {},
   "outputs": [],
   "source": [
    "plt.hist(eps, bins=100)"
   ]
  },
  {
   "cell_type": "code",
   "execution_count": 30,
   "metadata": {},
   "outputs": [
    {
     "data": {
      "text/plain": [
       "<matplotlib.collections.PathCollection at 0x22dce871978>"
      ]
     },
     "execution_count": 30,
     "metadata": {},
     "output_type": "execute_result"
    },
    {
     "data": {
      "image/png": "[encoded data removed]",
      "text/plain": [
       "<Figure size 432x288 with 1 Axes>"
      ]
     },
     "metadata": {},
     "output_type": "display_data"
    }
   ],
   "source": [
    "plt.scatter(X, Y)"
   ]
  },
  {
   "cell_type": "markdown",
   "metadata": {},
   "source": [
    "#### Парная регрессия"
   ]
  },
  {
   "cell_type": "code",
   "execution_count": 56,
   "metadata": {},
   "outputs": [
    {
     "name": "stdout",
     "output_type": "stream",
     "text": [
      "Linear Model created.\n"
     ]
    }
   ],
   "source": [
    "model_simple = MyLinearModel()"
   ]
  },
  {
   "cell_type": "code",
   "execution_count": 57,
   "metadata": {},
   "outputs": [
    {
     "data": {
      "text/plain": [
       "[3.2299999999999747, 2.0000000000000013]"
      ]
     },
     "execution_count": 57,
     "metadata": {},
     "output_type": "execute_result"
    }
   ],
   "source": [
    "model_simple.fit_simple_regression(X, Y, 0.01, nstep = 10000)"
   ]
  },
  {
   "cell_type": "code",
   "execution_count": 58,
   "metadata": {},
   "outputs": [],
   "source": [
    "pred = model_simple.predict_simple_regression(X)"
   ]
  },
  {
   "cell_type": "code",
   "execution_count": 55,
   "metadata": {},
   "outputs": [
    {
     "name": "stdout",
     "output_type": "stream",
     "text": [
      "Модель не обучена.\n"
     ]
    }
   ],
   "source": [
    "# Если модель не обучили, но пытаемся предсказать\n",
    "model_simple.predict_simple_regression(X)"
   ]
  },
  {
   "cell_type": "code",
   "execution_count": 49,
   "metadata": {},
   "outputs": [
    {
     "ename": "AttributeError",
     "evalue": "'MyLinearModel' object has no attribute 'beta_0'",
     "output_type": "error",
     "traceback": [
      "\u001b[1;31m---------------------------------------------------------------------------\u001b[0m",
      "\u001b[1;31mAttributeError\u001b[0m                            Traceback (most recent call last)",
      "\u001b[1;32m<ipython-input-49-60901559912d>\u001b[0m in \u001b[0;36m<module>\u001b[1;34m()\u001b[0m\n\u001b[1;32m----> 1\u001b[1;33m \u001b[0mtype\u001b[0m\u001b[1;33m(\u001b[0m\u001b[0mmodel_simple\u001b[0m\u001b[1;33m.\u001b[0m\u001b[0mbeta_0\u001b[0m\u001b[1;33m)\u001b[0m\u001b[1;33m\u001b[0m\u001b[0m\n\u001b[0m",
      "\u001b[1;31mAttributeError\u001b[0m: 'MyLinearModel' object has no attribute 'beta_0'"
     ]
    }
   ],
   "source": [
    "type(model_simple.beta_0)"
   ]
  },
  {
   "cell_type": "code",
   "execution_count": 59,
   "metadata": {},
   "outputs": [
    {
     "data": {
      "text/plain": [
       "array([137.23, 189.23, 201.23,  39.23, 171.23, 119.23, 177.23, 199.23,\n",
       "       197.23,  99.23, 151.23,  69.23,  97.23, 197.23,  55.23, 171.23,\n",
       "       161.23,  77.23, 197.23, 165.23, 141.23, 103.23, 115.23, 139.23,\n",
       "         9.23, 173.23,  83.23, 137.23, 173.23,  99.23, 127.23, 101.23,\n",
       "        19.23, 189.23, 109.23, 199.23, 175.23, 193.23,  59.23,  73.23,\n",
       "       199.23, 157.23,  85.23,  11.23, 143.23, 133.23, 155.23,  73.23,\n",
       "       121.23,  25.23,  49.23, 159.23,  41.23,  35.23,  59.23,  65.23,\n",
       "       109.23, 145.23,  57.23, 165.23,  17.23,  33.23, 155.23, 113.23,\n",
       "       147.23,   7.23,  91.23, 121.23, 115.23,  55.23, 105.23, 173.23,\n",
       "       117.23, 103.23,  29.23,  41.23, 167.23,   7.23, 107.23,  93.23,\n",
       "       101.23, 117.23, 187.23, 103.23, 177.23,  11.23, 139.23,  27.23,\n",
       "        47.23, 183.23, 201.23,  11.23,  27.23,  11.23, 193.23,  17.23,\n",
       "        23.23, 179.23,  33.23, 171.23])"
      ]
     },
     "execution_count": 59,
     "metadata": {},
     "output_type": "execute_result"
    }
   ],
   "source": [
    "pred"
   ]
  },
  {
   "cell_type": "code",
   "execution_count": 61,
   "metadata": {},
   "outputs": [
    {
     "data": {
      "text/plain": [
       "33.94699565910472"
      ]
     },
     "execution_count": 61,
     "metadata": {},
     "output_type": "execute_result"
    }
   ],
   "source": [
    "from sklearn.metrics import mean_squared_error, r2_score\n",
    "mean_squared_error(Y, pred)"
   ]
  },
  {
   "cell_type": "code",
   "execution_count": 62,
   "metadata": {},
   "outputs": [
    {
     "data": {
      "text/plain": [
       "0.9908876603805153"
      ]
     },
     "execution_count": 62,
     "metadata": {},
     "output_type": "execute_result"
    }
   ],
   "source": [
    "r2_score(Y, pred)"
   ]
  },
  {
   "cell_type": "markdown",
   "metadata": {},
   "source": [
    "#### Импорт данных `Boston` из `sklearn`"
   ]
  },
  {
   "cell_type": "code",
   "execution_count": null,
   "metadata": {},
   "outputs": [],
   "source": []
  },
  {
   "cell_type": "markdown",
   "metadata": {},
   "source": [
    "#### Множественная регрессия"
   ]
  },
  {
   "cell_type": "code",
   "execution_count": null,
   "metadata": {},
   "outputs": [],
   "source": []
  }
 ],
 "metadata": {
  "kernelspec": {
   "display_name": "Python 3",
   "language": "python",
   "name": "python3"
  },
  "language_info": {
   "codemirror_mode": {
    "name": "ipython",
    "version": 3
   },
   "file_extension": ".py",
   "mimetype": "text/x-python",
   "name": "python",
   "nbconvert_exporter": "python",
   "pygments_lexer": "ipython3",
   "version": "3.6.5"
  }
 },
 "nbformat": 4,
 "nbformat_minor": 2
}
