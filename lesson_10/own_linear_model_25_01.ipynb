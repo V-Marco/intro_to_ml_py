{
 "cells": [
  {
   "cell_type": "markdown",
   "metadata": {},
   "source": [
    "## Практическое задание 2: Программирование собственной линейной модели"
   ]
  },
  {
   "cell_type": "markdown",
   "metadata": {},
   "source": [
    "(Версия от 25 января 2020)"
   ]
  },
  {
   "cell_type": "markdown",
   "metadata": {},
   "source": [
    "---"
   ]
  },
  {
   "cell_type": "code",
   "execution_count": 1,
   "metadata": {},
   "outputs": [],
   "source": [
    "import numpy as np\n",
    "import pandas as pd\n",
    "import matplotlib.pyplot as plt"
   ]
  },
  {
   "cell_type": "markdown",
   "metadata": {},
   "source": [
    "#### Определение модели"
   ]
  },
  {
   "cell_type": "code",
   "execution_count": 30,
   "metadata": {},
   "outputs": [],
   "source": [
    "class MyLinearModel():\n",
    "    \n",
    "    def __init__(self):\n",
    "        print('Linear Model created.')\n",
    "        \n",
    "    def fit_simple_regression(self, X, Y, delta, nstep):\n",
    "        # Теория: Y = beta_0 + beta_1 * X\n",
    "        # X, Y -- векторы\n",
    "        \n",
    "        # Начальные значения\n",
    "        beta_0 = 1\n",
    "        beta_1 = 0\n",
    "        \n",
    "        for i in range(nstep):\n",
    "            Y_hat = beta_0 + beta_1 * X\n",
    "            mse = self.calculate_MSE(Y, Y_hat)\n",
    "            \n",
    "            # beta_0\n",
    "            beta_0_right = beta_0 + delta \n",
    "            beta_0_left = beta_0 - delta\n",
    "            \n",
    "            Y_hat_0_right = beta_0_right + beta_1 * X\n",
    "            Y_hat_0_left = beta_0_left + beta_1 * X\n",
    "            \n",
    "            mse_0_right = self.calculate_MSE(Y, Y_hat_0_right)\n",
    "            mse_0_left = self.calculate_MSE(Y, Y_hat_0_left)\n",
    "            \n",
    "            if mse_0_right < mse:\n",
    "                beta_0 = beta_0_right\n",
    "            elif mse_0_left < mse:\n",
    "                beta_0 = beta_0_left\n",
    "                \n",
    "            # beta_1\n",
    "            beta_1_right = beta_1 + delta \n",
    "            beta_1_left = beta_1 - delta\n",
    "            \n",
    "            Y_hat_1_right = beta_0 + beta_1_right * X\n",
    "            Y_hat_1_left = beta_0 + beta_1_left * X\n",
    "            \n",
    "            mse_1_right = self.calculate_MSE(Y, Y_hat_1_right)\n",
    "            mse_1_left = self.calculate_MSE(Y, Y_hat_1_left)\n",
    "            \n",
    "            if mse_1_right < mse:\n",
    "                beta_1 = beta_1_right\n",
    "            elif mse_1_left < mse:\n",
    "                beta_1 = beta_1_left\n",
    "        # Вне цикла\n",
    "        self.beta_0 = beta_0\n",
    "        self.beta_1 = beta_1\n",
    "        \n",
    "        return [beta_0, beta_1]\n",
    "    \n",
    "    def predict_simple_regression(self, X):\n",
    "        # Теория: hat(Y) = beta_0 + beta_1 * X\n",
    "        try:\n",
    "            return self.beta_0 + self.beta_1 * X\n",
    "        except:\n",
    "            print('Модель не обучена.')\n",
    "            \n",
    "    def fit_multiple_regression(self, X, Y, delta, nstep):\n",
    "        # Теория: Y = X @ beta, Y -- вектор, X -- матрица размера nxk, beta -- вектор kx1\n",
    "        \n",
    "        # Начальное значение beta\n",
    "        beta = np.ones(shape = (X.shape[1], 1))\n",
    "        \n",
    "        for i in range(nstep):\n",
    "            Y_hat = X @ beta\n",
    "            \n",
    "            # (12, 1) и (12, ) -- по мнению NumPy, это разные вещи\n",
    "            Y = Y.reshape(-1, 1)\n",
    "            \n",
    "            mse = self.calculate_MSE(Y, Y_hat)\n",
    "            \n",
    "            beta_new = np.copy(beta)\n",
    "            i = 0 # индекс коэффициента в векторе beta\n",
    "            \n",
    "            for element in beta:\n",
    "                # Получаю из вектора коэффициентов какой-то коэффициент \n",
    "                beta_interest = element\n",
    "                # Делаю шаг вправо\n",
    "                beta_interest_right = beta_interest + delta\n",
    "                # Делаю шаг влево\n",
    "                beta_interest_left = beta_interest - delta\n",
    "                \n",
    "                # Создаю копию вектора коэффициентов (по программным причинам)\n",
    "                beta_interest_vec_right = np.copy(beta)\n",
    "                # Заменяю исследуемый коэффициент на тот, который получили при шаге вправо\n",
    "                beta_interest_vec_right[i] = beta_interest_right\n",
    "                \n",
    "                # Повторяем для шага влево\n",
    "                beta_interest_vec_left = np.copy(beta)\n",
    "                beta_interest_vec_left[i] = beta_interest_left\n",
    "                \n",
    "                Y_hat_right = X @ beta_interest_vec_right\n",
    "                Y_hat_left = X @ beta_interest_vec_left\n",
    "                \n",
    "                mse_right = self.calculate_MSE(Y, Y_hat_right)\n",
    "                mse_left = self.calculate_MSE(Y, Y_hat_left)\n",
    "                \n",
    "                if float(mse_right) < float(mse):\n",
    "                    beta_new[i] = beta_interest_right\n",
    "                if float(mse_left) < float(mse):\n",
    "                    beta_new[i] = beta_interest_left\n",
    "                i += 1\n",
    "            beta = np.copy(beta_new)\n",
    "        self.beta = beta\n",
    "        return beta\n",
    "    \n",
    "    def fit_with_formula(self, X, Y):\n",
    "        # Теория: hat(Y) = (XT @ X)^(-1) @ XT @ Y\n",
    "        return np.linalg.inv(X.T @ X) @ X.T @ Y\n",
    "    \n",
    "    def predict_multiple_regression(self, X):\n",
    "        # Теория: hat(Y) = X @ beta\n",
    "        return X @ self.beta\n",
    "        \n",
    "    def calculate_MSE(self, Y, Y_hat):\n",
    "        # Y, hat(Y) -- векторы\n",
    "        # Теория: MSE = mean((Y - hat(Y))^2)\n",
    "        return np.mean((Y - Y_hat)**2)"
   ]
  },
  {
   "cell_type": "code",
   "execution_count": 3,
   "metadata": {},
   "outputs": [
    {
     "name": "stdout",
     "output_type": "stream",
     "text": [
      "Linear Model created.\n"
     ]
    }
   ],
   "source": [
    "model = MyLinearModel()"
   ]
  },
  {
   "cell_type": "markdown",
   "metadata": {},
   "source": [
    "#### Генерация случайных данных"
   ]
  },
  {
   "cell_type": "code",
   "execution_count": 4,
   "metadata": {},
   "outputs": [],
   "source": [
    "np.random.seed(123)\n",
    "# Генерирует 100 случайных целых чисел от 1 до 100\n",
    "X = np.random.randint(1, 100, 100)\n",
    "Y = 3 + 2 * X\n",
    "#  Добавим в Y нормально распределённые возмущения eps\n",
    "# Y = beta_0 + beta_1 * X + u\n",
    "# u = eps\n",
    "eps = np.random.normal(0, 1, 100)\n",
    "Y = Y + 6 * eps"
   ]
  },
  {
   "cell_type": "code",
   "execution_count": 5,
   "metadata": {},
   "outputs": [
    {
     "data": {
      "text/plain": [
       "(array([1., 0., 0., 1., 0., 1., 1., 0., 0., 0., 0., 0., 0., 1., 0., 0., 3.,\n",
       "        0., 0., 0., 1., 0., 1., 0., 2., 1., 1., 1., 2., 1., 4., 3., 2., 1.,\n",
       "        1., 1., 1., 2., 1., 1., 0., 3., 3., 2., 2., 3., 1., 0., 1., 2., 2.,\n",
       "        3., 2., 0., 2., 5., 1., 1., 3., 1., 1., 0., 0., 2., 0., 0., 1., 2.,\n",
       "        0., 3., 1., 2., 1., 0., 2., 0., 1., 0., 1., 0., 2., 0., 2., 2., 1.,\n",
       "        0., 0., 0., 0., 1., 0., 0., 0., 0., 0., 1., 1., 0., 0., 1.]),\n",
       " array([-2.14446388, -2.10006454, -2.05566521, -2.01126588, -1.96686654,\n",
       "        -1.92246721, -1.87806788, -1.83366854, -1.78926921, -1.74486988,\n",
       "        -1.70047054, -1.65607121, -1.61167188, -1.56727254, -1.52287321,\n",
       "        -1.47847388, -1.43407454, -1.38967521, -1.34527588, -1.30087654,\n",
       "        -1.25647721, -1.21207788, -1.16767854, -1.12327921, -1.07887988,\n",
       "        -1.03448054, -0.99008121, -0.94568188, -0.90128254, -0.85688321,\n",
       "        -0.81248388, -0.76808455, -0.72368521, -0.67928588, -0.63488655,\n",
       "        -0.59048721, -0.54608788, -0.50168855, -0.45728921, -0.41288988,\n",
       "        -0.36849055, -0.32409121, -0.27969188, -0.23529255, -0.19089321,\n",
       "        -0.14649388, -0.10209455, -0.05769521, -0.01329588,  0.03110345,\n",
       "         0.07550279,  0.11990212,  0.16430145,  0.20870079,  0.25310012,\n",
       "         0.29749945,  0.34189879,  0.38629812,  0.43069745,  0.47509679,\n",
       "         0.51949612,  0.56389545,  0.60829478,  0.65269412,  0.69709345,\n",
       "         0.74149278,  0.78589212,  0.83029145,  0.87469078,  0.91909012,\n",
       "         0.96348945,  1.00788878,  1.05228812,  1.09668745,  1.14108678,\n",
       "         1.18548612,  1.22988545,  1.27428478,  1.31868412,  1.36308345,\n",
       "         1.40748278,  1.45188212,  1.49628145,  1.54068078,  1.58508012,\n",
       "         1.62947945,  1.67387878,  1.71827812,  1.76267745,  1.80707678,\n",
       "         1.85147612,  1.89587545,  1.94027478,  1.98467412,  2.02907345,\n",
       "         2.07347278,  2.11787211,  2.16227145,  2.20667078,  2.25107011,\n",
       "         2.29546945]),\n",
       " <a list of 100 Patch objects>)"
      ]
     },
     "execution_count": 5,
     "metadata": {},
     "output_type": "execute_result"
    },
    {
     "data": {
      "image/png": "[encoded data removed]",
      "text/plain": [
       "<Figure size 432x288 with 1 Axes>"
      ]
     },
     "metadata": {
      "needs_background": "light"
     },
     "output_type": "display_data"
    }
   ],
   "source": [
    "plt.hist(eps, bins=100)"
   ]
  },
  {
   "cell_type": "code",
   "execution_count": 6,
   "metadata": {},
   "outputs": [
    {
     "data": {
      "text/plain": [
       "<matplotlib.collections.PathCollection at 0x29eebc8d608>"
      ]
     },
     "execution_count": 6,
     "metadata": {},
     "output_type": "execute_result"
    },
    {
     "data": {
      "image/png": "[encoded data removed]",
      "text/plain": [
       "<Figure size 432x288 with 1 Axes>"
      ]
     },
     "metadata": {
      "needs_background": "light"
     },
     "output_type": "display_data"
    }
   ],
   "source": [
    "plt.scatter(X, Y)"
   ]
  },
  {
   "cell_type": "markdown",
   "metadata": {},
   "source": [
    "#### Парная регрессия"
   ]
  },
  {
   "cell_type": "code",
   "execution_count": 7,
   "metadata": {},
   "outputs": [
    {
     "name": "stdout",
     "output_type": "stream",
     "text": [
      "Linear Model created.\n"
     ]
    }
   ],
   "source": [
    "model_simple = MyLinearModel()"
   ]
  },
  {
   "cell_type": "code",
   "execution_count": 9,
   "metadata": {},
   "outputs": [
    {
     "data": {
      "text/plain": [
       "[3.0119999999997784, 2.0039999999998903]"
      ]
     },
     "execution_count": 9,
     "metadata": {},
     "output_type": "execute_result"
    }
   ],
   "source": [
    "model_simple.fit_simple_regression(X, Y, 0.001, nstep = 10000)"
   ]
  },
  {
   "cell_type": "code",
   "execution_count": 10,
   "metadata": {},
   "outputs": [],
   "source": [
    "pred = model_simple.predict_simple_regression(X)"
   ]
  },
  {
   "cell_type": "code",
   "execution_count": 55,
   "metadata": {},
   "outputs": [
    {
     "name": "stdout",
     "output_type": "stream",
     "text": [
      "Модель не обучена.\n"
     ]
    }
   ],
   "source": [
    "# Если модель не обучили, но пытаемся предсказать\n",
    "model_simple.predict_simple_regression(X)"
   ]
  },
  {
   "cell_type": "code",
   "execution_count": 49,
   "metadata": {},
   "outputs": [
    {
     "ename": "AttributeError",
     "evalue": "'MyLinearModel' object has no attribute 'beta_0'",
     "output_type": "error",
     "traceback": [
      "\u001b[1;31m---------------------------------------------------------------------------\u001b[0m",
      "\u001b[1;31mAttributeError\u001b[0m                            Traceback (most recent call last)",
      "\u001b[1;32m<ipython-input-49-60901559912d>\u001b[0m in \u001b[0;36m<module>\u001b[1;34m()\u001b[0m\n\u001b[1;32m----> 1\u001b[1;33m \u001b[0mtype\u001b[0m\u001b[1;33m(\u001b[0m\u001b[0mmodel_simple\u001b[0m\u001b[1;33m.\u001b[0m\u001b[0mbeta_0\u001b[0m\u001b[1;33m)\u001b[0m\u001b[1;33m\u001b[0m\u001b[0m\n\u001b[0m",
      "\u001b[1;31mAttributeError\u001b[0m: 'MyLinearModel' object has no attribute 'beta_0'"
     ]
    }
   ],
   "source": [
    "type(model_simple.beta_0)"
   ]
  },
  {
   "cell_type": "code",
   "execution_count": 11,
   "metadata": {},
   "outputs": [
    {
     "data": {
      "text/plain": [
       "array([137.28 , 189.384, 201.408,  39.084, 171.348, 119.244, 177.36 ,\n",
       "       199.404, 197.4  ,  99.204, 151.308,  69.144,  97.2  , 197.4  ,\n",
       "        55.116, 171.348, 161.328,  77.16 , 197.4  , 165.336, 141.288,\n",
       "       103.212, 115.236, 139.284,   9.024, 173.352,  83.172, 137.28 ,\n",
       "       173.352,  99.204, 127.26 , 101.208,  19.044, 189.384, 109.224,\n",
       "       199.404, 175.356, 193.392,  59.124,  73.152, 199.404, 157.32 ,\n",
       "        85.176,  11.028, 143.292, 133.272, 155.316,  73.152, 121.248,\n",
       "        25.056,  49.104, 159.324,  41.088,  35.076,  59.124,  65.136,\n",
       "       109.224, 145.296,  57.12 , 165.336,  17.04 ,  33.072, 155.316,\n",
       "       113.232, 147.3  ,   7.02 ,  91.188, 121.248, 115.236,  55.116,\n",
       "       105.216, 173.352, 117.24 , 103.212,  29.064,  41.088, 167.34 ,\n",
       "         7.02 , 107.22 ,  93.192, 101.208, 117.24 , 187.38 , 103.212,\n",
       "       177.36 ,  11.028, 139.284,  27.06 ,  47.1  , 183.372, 201.408,\n",
       "        11.028,  27.06 ,  11.028, 193.392,  17.04 ,  23.052, 179.364,\n",
       "        33.072, 171.348])"
      ]
     },
     "execution_count": 11,
     "metadata": {},
     "output_type": "execute_result"
    }
   ],
   "source": [
    "pred"
   ]
  },
  {
   "cell_type": "code",
   "execution_count": 12,
   "metadata": {},
   "outputs": [
    {
     "data": {
      "text/plain": [
       "33.9453633477404"
      ]
     },
     "execution_count": 12,
     "metadata": {},
     "output_type": "execute_result"
    }
   ],
   "source": [
    "from sklearn.metrics import mean_squared_error, r2_score\n",
    "mean_squared_error(Y, pred)"
   ]
  },
  {
   "cell_type": "code",
   "execution_count": 13,
   "metadata": {},
   "outputs": [
    {
     "data": {
      "text/plain": [
       "0.9908880985393341"
      ]
     },
     "execution_count": 13,
     "metadata": {},
     "output_type": "execute_result"
    }
   ],
   "source": [
    "r2_score(Y, pred)"
   ]
  },
  {
   "cell_type": "markdown",
   "metadata": {},
   "source": [
    "#### Импорт данных `Boston` из `sklearn`"
   ]
  },
  {
   "cell_type": "code",
   "execution_count": 14,
   "metadata": {},
   "outputs": [],
   "source": [
    "from sklearn.datasets import load_boston"
   ]
  },
  {
   "cell_type": "code",
   "execution_count": 15,
   "metadata": {},
   "outputs": [],
   "source": [
    "boston_data = load_boston()\n",
    "\n",
    "X = boston_data['data']\n",
    "Y = boston_data['target']\n",
    "\n",
    "X = pd.DataFrame(X) # Создаём data frame из X\n",
    "\n",
    "X.columns = boston_data['feature_names'] # Названия столбцов"
   ]
  },
  {
   "cell_type": "code",
   "execution_count": 16,
   "metadata": {
    "scrolled": true
   },
   "outputs": [
    {
     "data": {
      "text/html": [
       "<div>\n",
       "<style scoped>\n",
       "    .dataframe tbody tr th:only-of-type {\n",
       "        vertical-align: middle;\n",
       "    }\n",
       "\n",
       "    .dataframe tbody tr th {\n",
       "        vertical-align: top;\n",
       "    }\n",
       "\n",
       "    .dataframe thead th {\n",
       "        text-align: right;\n",
       "    }\n",
       "</style>\n",
       "<table border=\"1\" class=\"dataframe\">\n",
       "  <thead>\n",
       "    <tr style=\"text-align: right;\">\n",
       "      <th></th>\n",
       "      <th>CRIM</th>\n",
       "      <th>ZN</th>\n",
       "      <th>INDUS</th>\n",
       "      <th>CHAS</th>\n",
       "      <th>NOX</th>\n",
       "      <th>RM</th>\n",
       "      <th>AGE</th>\n",
       "      <th>DIS</th>\n",
       "      <th>RAD</th>\n",
       "      <th>TAX</th>\n",
       "      <th>PTRATIO</th>\n",
       "      <th>B</th>\n",
       "      <th>LSTAT</th>\n",
       "    </tr>\n",
       "  </thead>\n",
       "  <tbody>\n",
       "    <tr>\n",
       "      <td>0</td>\n",
       "      <td>0.00632</td>\n",
       "      <td>18.0</td>\n",
       "      <td>2.31</td>\n",
       "      <td>0.0</td>\n",
       "      <td>0.538</td>\n",
       "      <td>6.575</td>\n",
       "      <td>65.2</td>\n",
       "      <td>4.0900</td>\n",
       "      <td>1.0</td>\n",
       "      <td>296.0</td>\n",
       "      <td>15.3</td>\n",
       "      <td>396.90</td>\n",
       "      <td>4.98</td>\n",
       "    </tr>\n",
       "    <tr>\n",
       "      <td>1</td>\n",
       "      <td>0.02731</td>\n",
       "      <td>0.0</td>\n",
       "      <td>7.07</td>\n",
       "      <td>0.0</td>\n",
       "      <td>0.469</td>\n",
       "      <td>6.421</td>\n",
       "      <td>78.9</td>\n",
       "      <td>4.9671</td>\n",
       "      <td>2.0</td>\n",
       "      <td>242.0</td>\n",
       "      <td>17.8</td>\n",
       "      <td>396.90</td>\n",
       "      <td>9.14</td>\n",
       "    </tr>\n",
       "    <tr>\n",
       "      <td>2</td>\n",
       "      <td>0.02729</td>\n",
       "      <td>0.0</td>\n",
       "      <td>7.07</td>\n",
       "      <td>0.0</td>\n",
       "      <td>0.469</td>\n",
       "      <td>7.185</td>\n",
       "      <td>61.1</td>\n",
       "      <td>4.9671</td>\n",
       "      <td>2.0</td>\n",
       "      <td>242.0</td>\n",
       "      <td>17.8</td>\n",
       "      <td>392.83</td>\n",
       "      <td>4.03</td>\n",
       "    </tr>\n",
       "    <tr>\n",
       "      <td>3</td>\n",
       "      <td>0.03237</td>\n",
       "      <td>0.0</td>\n",
       "      <td>2.18</td>\n",
       "      <td>0.0</td>\n",
       "      <td>0.458</td>\n",
       "      <td>6.998</td>\n",
       "      <td>45.8</td>\n",
       "      <td>6.0622</td>\n",
       "      <td>3.0</td>\n",
       "      <td>222.0</td>\n",
       "      <td>18.7</td>\n",
       "      <td>394.63</td>\n",
       "      <td>2.94</td>\n",
       "    </tr>\n",
       "    <tr>\n",
       "      <td>4</td>\n",
       "      <td>0.06905</td>\n",
       "      <td>0.0</td>\n",
       "      <td>2.18</td>\n",
       "      <td>0.0</td>\n",
       "      <td>0.458</td>\n",
       "      <td>7.147</td>\n",
       "      <td>54.2</td>\n",
       "      <td>6.0622</td>\n",
       "      <td>3.0</td>\n",
       "      <td>222.0</td>\n",
       "      <td>18.7</td>\n",
       "      <td>396.90</td>\n",
       "      <td>5.33</td>\n",
       "    </tr>\n",
       "  </tbody>\n",
       "</table>\n",
       "</div>"
      ],
      "text/plain": [
       "      CRIM    ZN  INDUS  CHAS    NOX     RM   AGE     DIS  RAD    TAX  \\\n",
       "0  0.00632  18.0   2.31   0.0  0.538  6.575  65.2  4.0900  1.0  296.0   \n",
       "1  0.02731   0.0   7.07   0.0  0.469  6.421  78.9  4.9671  2.0  242.0   \n",
       "2  0.02729   0.0   7.07   0.0  0.469  7.185  61.1  4.9671  2.0  242.0   \n",
       "3  0.03237   0.0   2.18   0.0  0.458  6.998  45.8  6.0622  3.0  222.0   \n",
       "4  0.06905   0.0   2.18   0.0  0.458  7.147  54.2  6.0622  3.0  222.0   \n",
       "\n",
       "   PTRATIO       B  LSTAT  \n",
       "0     15.3  396.90   4.98  \n",
       "1     17.8  396.90   9.14  \n",
       "2     17.8  392.83   4.03  \n",
       "3     18.7  394.63   2.94  \n",
       "4     18.7  396.90   5.33  "
      ]
     },
     "execution_count": 16,
     "metadata": {},
     "output_type": "execute_result"
    }
   ],
   "source": [
    "X.head()"
   ]
  },
  {
   "cell_type": "code",
   "execution_count": null,
   "metadata": {},
   "outputs": [],
   "source": [
    "Y"
   ]
  },
  {
   "cell_type": "code",
   "execution_count": 18,
   "metadata": {},
   "outputs": [],
   "source": [
    "from sklearn.model_selection import train_test_split\n",
    "np.random.seed(123)\n",
    "\n",
    "X_train, X_test, Y_train, Y_test = train_test_split(X, Y, test_size = 0.3)"
   ]
  },
  {
   "cell_type": "code",
   "execution_count": 20,
   "metadata": {},
   "outputs": [
    {
     "data": {
      "text/plain": [
       "(354,)"
      ]
     },
     "execution_count": 20,
     "metadata": {},
     "output_type": "execute_result"
    }
   ],
   "source": [
    "Y_train.shape"
   ]
  },
  {
   "cell_type": "markdown",
   "metadata": {},
   "source": [
    "#### Множественная регрессия"
   ]
  },
  {
   "cell_type": "code",
   "execution_count": 31,
   "metadata": {},
   "outputs": [
    {
     "name": "stdout",
     "output_type": "stream",
     "text": [
      "Linear Model created.\n"
     ]
    }
   ],
   "source": [
    "mr = MyLinearModel()"
   ]
  },
  {
   "cell_type": "code",
   "execution_count": 32,
   "metadata": {},
   "outputs": [
    {
     "data": {
      "text/plain": [
       "array([[-0.8 ],\n",
       "       [ 0.06],\n",
       "       [ 4.58]])"
      ]
     },
     "execution_count": 32,
     "metadata": {},
     "output_type": "execute_result"
    }
   ],
   "source": [
    "# На прошлых занятиях мы выяснили, что переменные LSTAT, AGE и RM наиболее\n",
    "# коррелируют с Y\n",
    "mr.fit_multiple_regression(X_train[['LSTAT', 'AGE', 'RM']], Y_train, 0.01, 1000)"
   ]
  },
  {
   "cell_type": "code",
   "execution_count": 29,
   "metadata": {},
   "outputs": [
    {
     "data": {
      "text/plain": [
       "0   -0.685732\n",
       "1    0.006954\n",
       "2    4.905449\n",
       "dtype: float64"
      ]
     },
     "execution_count": 29,
     "metadata": {},
     "output_type": "execute_result"
    }
   ],
   "source": [
    "mr.fit_with_formula(X_train[['LSTAT', 'AGE', 'RM']], Y_train)"
   ]
  },
  {
   "cell_type": "code",
   "execution_count": 33,
   "metadata": {},
   "outputs": [],
   "source": [
    "pred_mult = mr.predict_multiple_regression(X_test[['LSTAT', 'AGE', 'RM']])"
   ]
  },
  {
   "cell_type": "code",
   "execution_count": 35,
   "metadata": {},
   "outputs": [
    {
     "data": {
      "text/plain": [
       "38.63653073826529"
      ]
     },
     "execution_count": 35,
     "metadata": {},
     "output_type": "execute_result"
    }
   ],
   "source": [
    "mean_squared_error(Y_test, pred_mult)"
   ]
  },
  {
   "cell_type": "code",
   "execution_count": 36,
   "metadata": {},
   "outputs": [
    {
     "data": {
      "text/plain": [
       "0.5219913035328987"
      ]
     },
     "execution_count": 36,
     "metadata": {},
     "output_type": "execute_result"
    }
   ],
   "source": [
    "r2_score(Y_test, pred_mult)"
   ]
  },
  {
   "cell_type": "markdown",
   "metadata": {},
   "source": [
    "#### Парная регрессия (как множественная)"
   ]
  },
  {
   "cell_type": "code",
   "execution_count": 41,
   "metadata": {},
   "outputs": [],
   "source": [
    "vec_ones = np.ones(shape = X_train.shape[0]).reshape(-1, 1)"
   ]
  },
  {
   "cell_type": "code",
   "execution_count": 47,
   "metadata": {},
   "outputs": [],
   "source": [
    "X_train_mod = np.hstack((vec_ones, np.array(X_train['LSTAT']).reshape(-1, 1)))"
   ]
  },
  {
   "cell_type": "code",
   "execution_count": 49,
   "metadata": {},
   "outputs": [
    {
     "data": {
      "text/plain": [
       "array([[11.  ],\n",
       "       [ 0.47]])"
      ]
     },
     "execution_count": 49,
     "metadata": {},
     "output_type": "execute_result"
    }
   ],
   "source": [
    "mr.fit_multiple_regression(X_train_mod, Y_train, 0.01, 1000)"
   ]
  },
  {
   "cell_type": "code",
   "execution_count": 50,
   "metadata": {},
   "outputs": [],
   "source": [
    "# для X_test\n",
    "vec_ones_test = np.ones(shape = X_test.shape[0]).reshape(-1, 1)\n",
    "X_test_mod = np.hstack((vec_ones_test,\n",
    "                        np.array(X_test['LSTAT']).reshape(-1, 1)))"
   ]
  },
  {
   "cell_type": "code",
   "execution_count": 51,
   "metadata": {},
   "outputs": [],
   "source": [
    "pred_simple = mr.predict_multiple_regression(X_test_mod)"
   ]
  },
  {
   "cell_type": "code",
   "execution_count": 53,
   "metadata": {},
   "outputs": [
    {
     "data": {
      "text/plain": [
       "158.90339328717292"
      ]
     },
     "execution_count": 53,
     "metadata": {},
     "output_type": "execute_result"
    }
   ],
   "source": [
    "mean_squared_error(pred_simple, Y_test)"
   ]
  },
  {
   "cell_type": "code",
   "execution_count": 54,
   "metadata": {},
   "outputs": [
    {
     "data": {
      "text/plain": [
       "-13.909300325592223"
      ]
     },
     "execution_count": 54,
     "metadata": {},
     "output_type": "execute_result"
    }
   ],
   "source": [
    "r2_score(pred_simple, Y_test)"
   ]
  },
  {
   "cell_type": "code",
   "execution_count": null,
   "metadata": {},
   "outputs": [],
   "source": []
  }
 ],
 "metadata": {
  "kernelspec": {
   "display_name": "Python 3",
   "language": "python",
   "name": "python3"
  },
  "language_info": {
   "codemirror_mode": {
    "name": "ipython",
    "version": 3
   },
   "file_extension": ".py",
   "mimetype": "text/x-python",
   "name": "python",
   "nbconvert_exporter": "python",
   "pygments_lexer": "ipython3",
   "version": "3.7.4"
  }
 },
 "nbformat": 4,
 "nbformat_minor": 2
}
