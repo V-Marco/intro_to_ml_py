{
 "cells": [
  {
   "cell_type": "markdown",
   "metadata": {
    "colab_type": "text",
    "id": "XKPvpUifi3gx"
   },
   "source": [
    "## Введение в анализ данных и машинное обучение на Python"
   ]
  },
  {
   "cell_type": "markdown",
   "metadata": {
    "colab_type": "text",
    "id": "QsL2TYs0jGp3"
   },
   "source": [
    "### Тема 11: Анализ наборов данных «Титаник» и «Ирисы»\n",
    "\n",
    "---\n"
   ]
  },
  {
   "cell_type": "markdown",
   "metadata": {},
   "source": [
    "### Часть 1: «Титаник»\n",
    "\n",
    "[Данные](http://www.machinelearning.ru/wiki/images/3/32/Titanic.zip)\n",
    "\n",
    "[Описание данных](https://www.kaggle.com/c/titanic/data)\n",
    "\n",
    "[Хороший пример](https://towardsdatascience.com/predicting-the-survival-of-titanic-passengers-30870ccc7e8), но на английском."
   ]
  },
  {
   "cell_type": "code",
   "execution_count": null,
   "metadata": {
    "colab": {},
    "colab_type": "code",
    "id": "0j6aA3dok2Em"
   },
   "outputs": [],
   "source": [
    "import numpy as np\n",
    "import pandas as pd\n",
    "import matplotlib.pyplot as plt"
   ]
  },
  {
   "cell_type": "code",
   "execution_count": null,
   "metadata": {},
   "outputs": [],
   "source": [
    "data = pd.read_csv('train.csv')"
   ]
  },
  {
   "cell_type": "code",
   "execution_count": null,
   "metadata": {},
   "outputs": [],
   "source": [
    "data.head()"
   ]
  },
  {
   "cell_type": "code",
   "execution_count": null,
   "metadata": {},
   "outputs": [],
   "source": [
    "plt.hist(data['Survived'])\n",
    "plt.title('Гистограмма распределения выживших пассажиров')\n",
    "plt.xlabel('Выжил ли пассажир (0 -- нет, 1 -- да)')"
   ]
  },
  {
   "cell_type": "code",
   "execution_count": null,
   "metadata": {},
   "outputs": [],
   "source": [
    "plt.scatter(data['Fare'], data['Survived'])"
   ]
  },
  {
   "cell_type": "markdown",
   "metadata": {
    "colab_type": "text",
    "id": "6pvxK0ynkQjL"
   },
   "source": [
    "#### Постановка задачи регрессии\n",
    "\n",
    "\n",
    "**Исследовательский вопрос:** Как цена билета зависит от: возраста индивида, класса индивида, пола индивида?\n",
    "\n",
    "**Гипотеза:** \n",
    "1. Возраст -- положительно. \n",
    "2. Класс -- отрицательно. \n",
    "3. Пол: мужчины -- более дешёвые билеты.\n",
    "\n",
    "**Механизм:** \n",
    "1. Чем старше индивид, тем больше его доходы и накопления, а значит, он может купить билет дороже.\n",
    "2. Первый класс обладает большими удобствами, чем третий, а значит, цена билета в первый класс выше.\n",
    "3. На \"Титанике\" было много рабочих мужчин, а женщины являлись, в основном, жёнами состоятельных людей. Поэтому мужчины более вероятно покупали более дешёвые билеты.\n",
    "\n",
    "**Признаки:** \n",
    "1. Возраст: `Age`.\n",
    "2. Класс: `Pclass`.\n",
    "3. Пол: `Sex`.\n",
    "\n",
    "**Методы:** Линейная (множественная) регрессия."
   ]
  },
  {
   "cell_type": "code",
   "execution_count": null,
   "metadata": {
    "colab": {},
    "colab_type": "code",
    "id": "LwyaoqtbkzaY"
   },
   "outputs": [],
   "source": [
    "# Получим необходимые признаки\n",
    "data_sample = data[['Age', 'Pclass', 'Sex', 'Fare']]"
   ]
  },
  {
   "cell_type": "code",
   "execution_count": null,
   "metadata": {},
   "outputs": [],
   "source": [
    "# Посмотрим, что получилось\n",
    "data_sample"
   ]
  },
  {
   "cell_type": "code",
   "execution_count": null,
   "metadata": {},
   "outputs": [],
   "source": [
    "# Перекодируем переменную Sex\n",
    "sex = data_sample['Sex'].copy()\n",
    "sex[sex == 'male'] = int(0)\n",
    "sex[sex == 'female'] = int(1)\n",
    "sex = pd.to_numeric(sex)\n",
    "sex"
   ]
  },
  {
   "cell_type": "code",
   "execution_count": null,
   "metadata": {},
   "outputs": [],
   "source": [
    "# Заменим столбец\n",
    "data_sample = data_sample.drop('Sex', axis = 1)\n",
    "data_sample['Sex'] = sex"
   ]
  },
  {
   "cell_type": "code",
   "execution_count": null,
   "metadata": {},
   "outputs": [],
   "source": [
    "# Проверим типы столбцов\n",
    "data_sample.dtypes"
   ]
  },
  {
   "cell_type": "code",
   "execution_count": null,
   "metadata": {},
   "outputs": [],
   "source": [
    "# Проверим наличие отсутствующих значений\n",
    "np.sum(data_sample.isna())"
   ]
  },
  {
   "cell_type": "code",
   "execution_count": null,
   "metadata": {},
   "outputs": [],
   "source": [
    "# Удалим пропущенные значения\n",
    "data_sample = data_sample.dropna(subset=['Age'])\n",
    "# Проверим\n",
    "np.sum(data_sample.isna())"
   ]
  },
  {
   "cell_type": "code",
   "execution_count": null,
   "metadata": {},
   "outputs": [],
   "source": [
    "# Разобьём на обучающую и тестовую выборки\n",
    "np.random.seed(123)\n",
    "from sklearn.model_selection import train_test_split\n",
    "X_train, X_test, y_train, y_test = train_test_split(data_sample[['Age', 'Pclass', 'Sex']], \n",
    "                                                    data_sample['Fare'], test_size=0.3)"
   ]
  },
  {
   "cell_type": "code",
   "execution_count": null,
   "metadata": {},
   "outputs": [],
   "source": [
    "X_train.head()"
   ]
  },
  {
   "cell_type": "code",
   "execution_count": null,
   "metadata": {},
   "outputs": [],
   "source": [
    "from sklearn.linear_model import LinearRegression\n",
    "model = LinearRegression()\n",
    "model.fit(X_train, y_train)\n",
    "predictions = model.predict(X_test)"
   ]
  },
  {
   "cell_type": "code",
   "execution_count": null,
   "metadata": {},
   "outputs": [],
   "source": [
    "from sklearn.metrics import mean_squared_error, r2_score\n",
    "print('MSE: %f\\nR2: %f' % (mean_squared_error(y_test, predictions), r2_score(y_test, predictions)))"
   ]
  },
  {
   "cell_type": "code",
   "execution_count": null,
   "metadata": {},
   "outputs": [],
   "source": [
    "model.coef_"
   ]
  },
  {
   "cell_type": "code",
   "execution_count": null,
   "metadata": {},
   "outputs": [],
   "source": [
    "model.intercept_"
   ]
  },
  {
   "cell_type": "markdown",
   "metadata": {
    "colab_type": "text",
    "id": "4gujgHoak8Vr"
   },
   "source": [
    "#### Постановка задачи классификации\n",
    "\n",
    "\n",
    "**Исследовательский вопрос:** Как факт выживания на Титанике зависит от возраста и цены билета индивида?\n",
    "\n",
    "**Гипотеза:** \n",
    "1. Чем индивид моложе, тем более вероятно он выживет.\n",
    "2. Чем цена билета индивида выше, тем более вероятно он выживет.\n",
    "\n",
    "**Механизм:** \n",
    "\n",
    "1. \n",
    "    - Детей первых сажали на лодки.\n",
    "    - Более молодые обычно более выносливые.\n",
    "2. Кабины первых классов находились наверху, а следовательно, имели больше шансов первыми добраться до лодок.\n",
    "\n",
    "**Признаки:** \n",
    "1. Возраст индивида (`Age`)\n",
    "2. Цена билета (`Fare`)\n",
    "\n",
    "**Методы:** \n",
    "\n",
    "Решающее дерево"
   ]
  },
  {
   "cell_type": "code",
   "execution_count": null,
   "metadata": {
    "colab": {},
    "colab_type": "code",
    "id": "c_x5g1LmlD4R"
   },
   "outputs": [],
   "source": [
    "data_sample2 = data[['Survived', 'Age', 'Fare']]\n",
    "np.sum(data_sample2.isna())"
   ]
  },
  {
   "cell_type": "code",
   "execution_count": null,
   "metadata": {},
   "outputs": [],
   "source": [
    "data_sample2 = data_sample2.dropna()"
   ]
  },
  {
   "cell_type": "code",
   "execution_count": null,
   "metadata": {},
   "outputs": [],
   "source": [
    "from sklearn.tree import DecisionTreeClassifier\n",
    "model2 = DecisionTreeClassifier(max_depth=1)\n",
    "model3 = DecisionTreeClassifier(max_depth=5)"
   ]
  },
  {
   "cell_type": "code",
   "execution_count": null,
   "metadata": {},
   "outputs": [],
   "source": [
    "np.random.seed(123)\n",
    "from sklearn.model_selection import train_test_split\n",
    "X_train, X_test, y_train, y_test = train_test_split(data_sample2[['Age', 'Fare']], \n",
    "                                                    data_sample2['Survived'], test_size=0.3)"
   ]
  },
  {
   "cell_type": "code",
   "execution_count": null,
   "metadata": {},
   "outputs": [],
   "source": [
    "model2.fit(X_train, y_train)\n",
    "model3.fit(X_train, y_train)"
   ]
  },
  {
   "cell_type": "code",
   "execution_count": null,
   "metadata": {},
   "outputs": [],
   "source": [
    "pred2 = model2.predict(X_test)\n",
    "pred3 = model3.predict(X_test)"
   ]
  },
  {
   "cell_type": "code",
   "execution_count": null,
   "metadata": {},
   "outputs": [],
   "source": [
    "from sklearn.metrics import accuracy_score\n",
    "print('Глубина 1: %f \\nГлубина 5: %f' % (accuracy_score(y_test, pred2), accuracy_score(y_test, pred3)))"
   ]
  },
  {
   "cell_type": "code",
   "execution_count": null,
   "metadata": {},
   "outputs": [],
   "source": [
    "plt.scatter(X_test['Age'], X_test['Fare'], c=pred3)"
   ]
  },
  {
   "cell_type": "code",
   "execution_count": null,
   "metadata": {},
   "outputs": [],
   "source": [
    "from sklearn import tree\n",
    "\n",
    "axes = plt.axes((0, 0, 10, 10))\n",
    "tree.plot_tree(model3, ax = axes, fontsize=14)"
   ]
  },
  {
   "cell_type": "markdown",
   "metadata": {
    "colab_type": "text",
    "id": "OqupUmtMlHl2"
   },
   "source": [
    "#### Выводы"
   ]
  },
  {
   "cell_type": "code",
   "execution_count": null,
   "metadata": {
    "colab": {},
    "colab_type": "code",
    "id": "Wh1CbiXblJQe"
   },
   "outputs": [],
   "source": []
  },
  {
   "cell_type": "markdown",
   "metadata": {},
   "source": [
    "### Часть 2: «Ирисы»\n",
    "\n",
    "Данные: в числе наборов данных `sklearn`.\n",
    "\n",
    "[Описание данных](https://www.kaggle.com/uciml/iris)"
   ]
  },
  {
   "cell_type": "code",
   "execution_count": null,
   "metadata": {},
   "outputs": [],
   "source": [
    "from sklearn.datasets import load_iris\n",
    "iris = load_iris()\n",
    "iris.keys()"
   ]
  },
  {
   "cell_type": "code",
   "execution_count": null,
   "metadata": {},
   "outputs": [],
   "source": [
    "X = pd.DataFrame(iris['data'])\n",
    "X.columns = iris['feature_names']\n",
    "X.head()"
   ]
  },
  {
   "cell_type": "code",
   "execution_count": null,
   "metadata": {},
   "outputs": [],
   "source": [
    "Y = iris['target']\n",
    "Y"
   ]
  },
  {
   "cell_type": "code",
   "execution_count": null,
   "metadata": {},
   "outputs": [],
   "source": [
    "iris['target_names']"
   ]
  },
  {
   "cell_type": "code",
   "execution_count": null,
   "metadata": {},
   "outputs": [],
   "source": [
    "plt.scatter(X['sepal length (cm)'], X['petal width (cm)'], c=Y)"
   ]
  },
  {
   "cell_type": "markdown",
   "metadata": {},
   "source": [
    "#### Постановка задачи\n",
    "\n",
    "Классически ставится задача классификации цветков ириса на основании четырёх измерений. Задача аналитика в данном случае заключается в подборе модели, которая покажет наилучшее качество прогнозов. \n",
    "\n",
    "**Признаки:**\n",
    "\n",
    "**Используемые модели:** kNN, Случайный лес"
   ]
  },
  {
   "cell_type": "code",
   "execution_count": null,
   "metadata": {},
   "outputs": [],
   "source": [
    "from sklearn.neighbors import KNeighborsClassifier\n",
    "from sklearn.ensemble import RandomForestClassifier"
   ]
  },
  {
   "cell_type": "code",
   "execution_count": null,
   "metadata": {},
   "outputs": [],
   "source": [
    "knn = KNeighborsClassifier(n_neighbors=5)\n",
    "forest = RandomForestClassifier(n_estimators=20)"
   ]
  },
  {
   "cell_type": "code",
   "execution_count": null,
   "metadata": {},
   "outputs": [],
   "source": [
    "np.random.seed(123)\n",
    "from sklearn.model_selection import train_test_split\n",
    "X_train, X_test, y_train, y_test = train_test_split(X, Y, test_size = 0.3)"
   ]
  },
  {
   "cell_type": "code",
   "execution_count": null,
   "metadata": {},
   "outputs": [],
   "source": [
    "knn.fit(X_train, y_train)\n",
    "forest.fit(X_train, y_train)"
   ]
  },
  {
   "cell_type": "code",
   "execution_count": null,
   "metadata": {},
   "outputs": [],
   "source": [
    "pred_knn = knn.predict(X_test)\n",
    "pred_forest = forest.predict(X_test)"
   ]
  },
  {
   "cell_type": "code",
   "execution_count": null,
   "metadata": {},
   "outputs": [],
   "source": [
    "from sklearn.metrics import accuracy_score\n",
    "print('kNN: %f\\nRandom Forest: %f' % (accuracy_score(y_test, pred_knn), accuracy_score(y_test, pred_forest)))"
   ]
  },
  {
   "cell_type": "markdown",
   "metadata": {},
   "source": [
    "#### Выводы"
   ]
  },
  {
   "cell_type": "code",
   "execution_count": null,
   "metadata": {},
   "outputs": [],
   "source": []
  }
 ],
 "metadata": {
  "colab": {
   "authorship_tag": "ABX9TyM04U6Qq1lJHU2shX3lM49/",
   "name": "Titanic.ipynb",
   "provenance": []
  },
  "kernelspec": {
   "display_name": "Python 3",
   "language": "python",
   "name": "python3"
  },
  "language_info": {
   "codemirror_mode": {
    "name": "ipython",
    "version": 3
   },
   "file_extension": ".py",
   "mimetype": "text/x-python",
   "name": "python",
   "nbconvert_exporter": "python",
   "pygments_lexer": "ipython3",
   "version": "3.7.4"
  }
 },
 "nbformat": 4,
 "nbformat_minor": 1
}
