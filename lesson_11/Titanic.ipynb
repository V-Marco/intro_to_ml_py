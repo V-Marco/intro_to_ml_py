{
 "cells": [
  {
   "cell_type": "markdown",
   "metadata": {
    "colab_type": "text",
    "id": "XKPvpUifi3gx"
   },
   "source": [
    "## Введение в анализ данных и машинное обучение на Python"
   ]
  },
  {
   "cell_type": "markdown",
   "metadata": {
    "colab_type": "text",
    "id": "QsL2TYs0jGp3"
   },
   "source": [
    "### Тема 11: Анализ наборов данных «Титаник» и «Ирисы»\n",
    "\n",
    "---\n"
   ]
  },
  {
   "cell_type": "markdown",
   "metadata": {},
   "source": [
    "### Часть 1: «Титаник»\n",
    "\n",
    "[Данные](http://www.machinelearning.ru/wiki/images/3/32/Titanic.zip)\n",
    "\n",
    "[Описание данных](https://www.kaggle.com/c/titanic/data)\n",
    "\n",
    "[Хороший пример](https://towardsdatascience.com/predicting-the-survival-of-titanic-passengers-30870ccc7e8), но на английском."
   ]
  },
  {
   "cell_type": "code",
   "execution_count": 0,
   "metadata": {
    "colab": {},
    "colab_type": "code",
    "id": "0j6aA3dok2Em"
   },
   "outputs": [],
   "source": []
  },
  {
   "cell_type": "markdown",
   "metadata": {
    "colab_type": "text",
    "id": "6pvxK0ynkQjL"
   },
   "source": [
    "#### Постановка задачи регрессии\n",
    "\n",
    "**Исследовательский вопрос:**\n",
    "\n",
    "**Гипотеза:**\n",
    "\n",
    "**Механизм:**\n",
    "\n",
    "**Признаки:**\n",
    "\n",
    "**Методы:**\n"
   ]
  },
  {
   "cell_type": "code",
   "execution_count": 0,
   "metadata": {
    "colab": {},
    "colab_type": "code",
    "id": "LwyaoqtbkzaY"
   },
   "outputs": [],
   "source": []
  },
  {
   "cell_type": "markdown",
   "metadata": {
    "colab_type": "text",
    "id": "4gujgHoak8Vr"
   },
   "source": [
    "#### Постановка задачи классификации\n",
    "\n",
    "**Исследовательский вопрос:**\n",
    "\n",
    "**Гипотеза:**\n",
    "\n",
    "**Механизм:**\n",
    "\n",
    "**Признаки:**\n",
    "\n",
    "**Методы:**"
   ]
  },
  {
   "cell_type": "code",
   "execution_count": 0,
   "metadata": {
    "colab": {},
    "colab_type": "code",
    "id": "c_x5g1LmlD4R"
   },
   "outputs": [],
   "source": []
  },
  {
   "cell_type": "markdown",
   "metadata": {
    "colab_type": "text",
    "id": "OqupUmtMlHl2"
   },
   "source": [
    "#### Выводы"
   ]
  },
  {
   "cell_type": "code",
   "execution_count": 0,
   "metadata": {
    "colab": {},
    "colab_type": "code",
    "id": "Wh1CbiXblJQe"
   },
   "outputs": [],
   "source": []
  },
  {
   "cell_type": "markdown",
   "metadata": {},
   "source": [
    "### Часть 2: «Ирисы»\n",
    "\n",
    "Данные: в числе наборов данных `sklearn`.\n",
    "\n",
    "[Описание данных](https://www.kaggle.com/uciml/iris)"
   ]
  },
  {
   "cell_type": "code",
   "execution_count": 1,
   "metadata": {},
   "outputs": [],
   "source": [
    "from sklearn.datasets import load_iris\n",
    "iris = load_iris()\n",
    "iris.keys()"
   ]
  },
  {
   "cell_type": "markdown",
   "metadata": {},
   "source": [
    "#### Постановка задачи\n",
    "\n",
    "Классически ставится задача классификации цветков ириса на основании четырёх измерений. Задача аналитика в данном случае заключается в подборе модели, которая покажет наилучшее качество прогнозов. \n",
    "\n",
    "**Признаки:**\n",
    "\n",
    "**Используемые модели:**"
   ]
  },
  {
   "cell_type": "code",
   "execution_count": null,
   "metadata": {},
   "outputs": [],
   "source": []
  },
  {
   "cell_type": "markdown",
   "metadata": {},
   "source": [
    "#### Выводы"
   ]
  },
  {
   "cell_type": "code",
   "execution_count": null,
   "metadata": {},
   "outputs": [],
   "source": []
  }
 ],
 "metadata": {
  "colab": {
   "authorship_tag": "ABX9TyM04U6Qq1lJHU2shX3lM49/",
   "name": "Titanic.ipynb",
   "provenance": []
  },
  "kernelspec": {
   "display_name": "Python 3",
   "language": "python",
   "name": "python3"
  },
  "language_info": {
   "codemirror_mode": {
    "name": "ipython",
    "version": 3
   },
   "file_extension": ".py",
   "mimetype": "text/x-python",
   "name": "python",
   "nbconvert_exporter": "python",
   "pygments_lexer": "ipython3",
   "version": "3.7.4"
  }
 },
 "nbformat": 4,
 "nbformat_minor": 1
}
