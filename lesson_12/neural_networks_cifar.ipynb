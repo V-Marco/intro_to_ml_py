{
  "nbformat": 4,
  "nbformat_minor": 0,
  "metadata": {
    "colab": {
      "name": "neural_networks_cifar.ipynb",
      "provenance": [],
      "collapsed_sections": []
    },
    "kernelspec": {
      "name": "python3",
      "display_name": "Python 3"
    }
  },
  "cells": [
    {
      "cell_type": "code",
      "metadata": {
        "id": "wXAXKPkWUQiQ",
        "colab_type": "code",
        "colab": {}
      },
      "source": [
        "import numpy as np\n",
        "import matplotlib.pyplot as plt\n",
        "import torch # библиотека для работы с нейронными сетями"
      ],
      "execution_count": 0,
      "outputs": []
    },
    {
      "cell_type": "code",
      "metadata": {
        "id": "4x5SsRN-UY-C",
        "colab_type": "code",
        "colab": {}
      },
      "source": [
        "from sklearn.datasets import load_digits\n",
        "digits = load_digits()"
      ],
      "execution_count": 0,
      "outputs": []
    },
    {
      "cell_type": "code",
      "metadata": {
        "id": "VAEQgKvSUa8e",
        "colab_type": "code",
        "outputId": "8fb5b588-1b66-4820-9d89-2c90edb853a6",
        "colab": {
          "base_uri": "https://localhost:8080/",
          "height": 33
        }
      },
      "source": [
        "digits.keys()"
      ],
      "execution_count": 0,
      "outputs": [
        {
          "output_type": "execute_result",
          "data": {
            "text/plain": [
              "dict_keys(['data', 'target', 'target_names', 'images', 'DESCR'])"
            ]
          },
          "metadata": {
            "tags": []
          },
          "execution_count": 5
        }
      ]
    },
    {
      "cell_type": "code",
      "metadata": {
        "id": "oZ2dhwmRVfSQ",
        "colab_type": "code",
        "outputId": "2dd36096-e587-4e81-e072-a6b4e1ac8c35",
        "colab": {
          "base_uri": "https://localhost:8080/",
          "height": 134
        }
      },
      "source": [
        "digits['data']"
      ],
      "execution_count": 0,
      "outputs": [
        {
          "output_type": "execute_result",
          "data": {
            "text/plain": [
              "array([[ 0.,  0.,  5., ...,  0.,  0.,  0.],\n",
              "       [ 0.,  0.,  0., ..., 10.,  0.,  0.],\n",
              "       [ 0.,  0.,  0., ..., 16.,  9.,  0.],\n",
              "       ...,\n",
              "       [ 0.,  0.,  1., ...,  6.,  0.,  0.],\n",
              "       [ 0.,  0.,  2., ..., 12.,  0.,  0.],\n",
              "       [ 0.,  0., 10., ..., 12.,  1.,  0.]])"
            ]
          },
          "metadata": {
            "tags": []
          },
          "execution_count": 6
        }
      ]
    },
    {
      "cell_type": "code",
      "metadata": {
        "id": "us5ESI6cVleV",
        "colab_type": "code",
        "outputId": "9a81f3c1-4e34-4597-c877-29651e11b168",
        "colab": {
          "base_uri": "https://localhost:8080/",
          "height": 33
        }
      },
      "source": [
        "digits['target']"
      ],
      "execution_count": 0,
      "outputs": [
        {
          "output_type": "execute_result",
          "data": {
            "text/plain": [
              "array([0, 1, 2, ..., 8, 9, 8])"
            ]
          },
          "metadata": {
            "tags": []
          },
          "execution_count": 7
        }
      ]
    },
    {
      "cell_type": "code",
      "metadata": {
        "id": "z55FD0gPVzQb",
        "colab_type": "code",
        "outputId": "2ec63ae5-4f82-4045-c54f-3bb58b3daf9e",
        "colab": {
          "base_uri": "https://localhost:8080/",
          "height": 33
        }
      },
      "source": [
        "digits['target_names']"
      ],
      "execution_count": 0,
      "outputs": [
        {
          "output_type": "execute_result",
          "data": {
            "text/plain": [
              "array([0, 1, 2, 3, 4, 5, 6, 7, 8, 9])"
            ]
          },
          "metadata": {
            "tags": []
          },
          "execution_count": 8
        }
      ]
    },
    {
      "cell_type": "code",
      "metadata": {
        "id": "y7Rlg14TV4D1",
        "colab_type": "code",
        "outputId": "a720f369-c44d-46aa-ad2e-8d2bb54bdd0f",
        "colab": {
          "base_uri": "https://localhost:8080/",
          "height": 786
        }
      },
      "source": [
        "print(digits['DESCR'])"
      ],
      "execution_count": 0,
      "outputs": [
        {
          "output_type": "stream",
          "text": [
            ".. _digits_dataset:\n",
            "\n",
            "Optical recognition of handwritten digits dataset\n",
            "--------------------------------------------------\n",
            "\n",
            "**Data Set Characteristics:**\n",
            "\n",
            "    :Number of Instances: 5620\n",
            "    :Number of Attributes: 64\n",
            "    :Attribute Information: 8x8 image of integer pixels in the range 0..16.\n",
            "    :Missing Attribute Values: None\n",
            "    :Creator: E. Alpaydin (alpaydin '@' boun.edu.tr)\n",
            "    :Date: July; 1998\n",
            "\n",
            "This is a copy of the test set of the UCI ML hand-written digits datasets\n",
            "https://archive.ics.uci.edu/ml/datasets/Optical+Recognition+of+Handwritten+Digits\n",
            "\n",
            "The data set contains images of hand-written digits: 10 classes where\n",
            "each class refers to a digit.\n",
            "\n",
            "Preprocessing programs made available by NIST were used to extract\n",
            "normalized bitmaps of handwritten digits from a preprinted form. From a\n",
            "total of 43 people, 30 contributed to the training set and different 13\n",
            "to the test set. 32x32 bitmaps are divided into nonoverlapping blocks of\n",
            "4x4 and the number of on pixels are counted in each block. This generates\n",
            "an input matrix of 8x8 where each element is an integer in the range\n",
            "0..16. This reduces dimensionality and gives invariance to small\n",
            "distortions.\n",
            "\n",
            "For info on NIST preprocessing routines, see M. D. Garris, J. L. Blue, G.\n",
            "T. Candela, D. L. Dimmick, J. Geist, P. J. Grother, S. A. Janet, and C.\n",
            "L. Wilson, NIST Form-Based Handprint Recognition System, NISTIR 5469,\n",
            "1994.\n",
            "\n",
            ".. topic:: References\n",
            "\n",
            "  - C. Kaynak (1995) Methods of Combining Multiple Classifiers and Their\n",
            "    Applications to Handwritten Digit Recognition, MSc Thesis, Institute of\n",
            "    Graduate Studies in Science and Engineering, Bogazici University.\n",
            "  - E. Alpaydin, C. Kaynak (1998) Cascading Classifiers, Kybernetika.\n",
            "  - Ken Tang and Ponnuthurai N. Suganthan and Xi Yao and A. Kai Qin.\n",
            "    Linear dimensionalityreduction using relevance weighted LDA. School of\n",
            "    Electrical and Electronic Engineering Nanyang Technological University.\n",
            "    2005.\n",
            "  - Claudio Gentile. A New Approximate Maximal Margin Classification\n",
            "    Algorithm. NIPS. 2000.\n"
          ],
          "name": "stdout"
        }
      ]
    },
    {
      "cell_type": "code",
      "metadata": {
        "id": "dP-oXjGjWB9m",
        "colab_type": "code",
        "colab": {}
      },
      "source": [
        "X = digits['data']\n",
        "Y = digits['target']"
      ],
      "execution_count": 0,
      "outputs": []
    },
    {
      "cell_type": "code",
      "metadata": {
        "id": "o3UgYS1aWTX_",
        "colab_type": "code",
        "outputId": "6b1a4b55-87ef-4c21-f9cb-f967106e602c",
        "colab": {
          "base_uri": "https://localhost:8080/",
          "height": 33
        }
      },
      "source": [
        "X.shape"
      ],
      "execution_count": 0,
      "outputs": [
        {
          "output_type": "execute_result",
          "data": {
            "text/plain": [
              "(1797, 64)"
            ]
          },
          "metadata": {
            "tags": []
          },
          "execution_count": 11
        }
      ]
    },
    {
      "cell_type": "code",
      "metadata": {
        "id": "w791A76rWVZC",
        "colab_type": "code",
        "outputId": "4339a2c1-1687-4d5a-c310-bfde262b544b",
        "colab": {
          "base_uri": "https://localhost:8080/",
          "height": 281
        }
      },
      "source": [
        "plt.gray()\n",
        "plt.imshow(X[500,:].reshape(8, 8))"
      ],
      "execution_count": 0,
      "outputs": [
        {
          "output_type": "execute_result",
          "data": {
            "text/plain": [
              "<matplotlib.image.AxesImage at 0x7f87815db860>"
            ]
          },
          "metadata": {
            "tags": []
          },
          "execution_count": 16
        },
        {
          "output_type": "display_data",
          "data": {
            "image/png": "[encoded data removed]",
            "text/plain": [
              "<Figure size 432x288 with 1 Axes>"
            ]
          },
          "metadata": {
            "tags": []
          }
        }
      ]
    },
    {
      "cell_type": "code",
      "metadata": {
        "id": "Y2ZuT5jmWrQv",
        "colab_type": "code",
        "outputId": "5dc5bc51-86d2-4cbf-eacb-54518817578a",
        "colab": {
          "base_uri": "https://localhost:8080/",
          "height": 33
        }
      },
      "source": [
        "Y[500]"
      ],
      "execution_count": 0,
      "outputs": [
        {
          "output_type": "execute_result",
          "data": {
            "text/plain": [
              "8"
            ]
          },
          "metadata": {
            "tags": []
          },
          "execution_count": 17
        }
      ]
    },
    {
      "cell_type": "code",
      "metadata": {
        "id": "6GdE5Vb-W5lb",
        "colab_type": "code",
        "colab": {}
      },
      "source": [
        "from sklearn.model_selection import train_test_split\n",
        "\n",
        "X_train, X_test, y_train, y_test = train_test_split(X, Y, test_size = 0.3)"
      ],
      "execution_count": 0,
      "outputs": []
    },
    {
      "cell_type": "code",
      "metadata": {
        "id": "byHOrwQ-XZnW",
        "colab_type": "code",
        "colab": {}
      },
      "source": [
        ""
      ],
      "execution_count": 0,
      "outputs": []
    },
    {
      "cell_type": "markdown",
      "metadata": {
        "id": "v3VmfcS4XfZI",
        "colab_type": "text"
      },
      "source": [
        "Простая модель"
      ]
    },
    {
      "cell_type": "code",
      "metadata": {
        "id": "6nqBIDLRXgmP",
        "colab_type": "code",
        "colab": {}
      },
      "source": [
        "model = torch.nn.Sequential(\n",
        "    torch.nn.Linear(64, 256), # 256 -- количество нейронов в линейном слое\n",
        "    torch.nn.LeakyReLU(),\n",
        "    torch.nn.Linear(256, 10)\n",
        ")"
      ],
      "execution_count": 0,
      "outputs": []
    },
    {
      "cell_type": "code",
      "metadata": {
        "id": "el1UNLJOZI_G",
        "colab_type": "code",
        "colab": {}
      },
      "source": [
        "optimizer = torch.optim.Adam(model.parameters(), lr=0.001)"
      ],
      "execution_count": 0,
      "outputs": []
    },
    {
      "cell_type": "code",
      "metadata": {
        "id": "rNNXmcuKZohI",
        "colab_type": "code",
        "colab": {}
      },
      "source": [
        "loss = torch.nn.CrossEntropyLoss()"
      ],
      "execution_count": 0,
      "outputs": []
    },
    {
      "cell_type": "code",
      "metadata": {
        "id": "cPrx34oDaFIq",
        "colab_type": "code",
        "outputId": "97ebc47e-0464-4f00-d69a-8105ab260c93",
        "colab": {
          "base_uri": "https://localhost:8080/",
          "height": 1000
        }
      },
      "source": [
        "BATCH_SIZE = 8\n",
        "loss_history = [] # ошибки после каждого прогона\n",
        "\n",
        "for i in range(len(X_train) // BATCH_SIZE):\n",
        "  X_batch = X_train[i * BATCH_SIZE : (i+1) * BATCH_SIZE]\n",
        "  y_batch = y_train[i * BATCH_SIZE : (i+1) * BATCH_SIZE]\n",
        "\n",
        "  # torch.tensor -- формат, понятный torch\n",
        "  X_batch = torch.tensor(X_batch)\n",
        "  y_batch = torch.tensor(y_batch)\n",
        "\n",
        "  # прогоняем батч через нейронную сеть\n",
        "  nn_output = model(X_batch.float()) # .float() -- чтобы без ошибки\n",
        "  # функция ошибки\n",
        "  computed_loss = loss(nn_output, y_batch)\n",
        "  # добавим в историю ошибок\n",
        "  loss_history.append(computed_loss.data.numpy())\n",
        "\n",
        "  print('Step: ', str(i), ' -- loss is ', str(computed_loss.data.numpy()))\n",
        "\n",
        "  # стандартные команды torch для обучения\n",
        "  computed_loss.backward()\n",
        "  optimizer.step()\n",
        "  optimizer.zero_grad() # математическое условие сходимости к минимуму"
      ],
      "execution_count": 0,
      "outputs": [
        {
          "output_type": "stream",
          "text": [
            "Step:  0  -- loss is  3.1052914\n",
            "Step:  1  -- loss is  3.6694412\n",
            "Step:  2  -- loss is  3.5005336\n",
            "Step:  3  -- loss is  2.8529613\n",
            "Step:  4  -- loss is  2.5919182\n",
            "Step:  5  -- loss is  2.2046587\n",
            "Step:  6  -- loss is  2.3846838\n",
            "Step:  7  -- loss is  2.4821424\n",
            "Step:  8  -- loss is  2.2007103\n",
            "Step:  9  -- loss is  2.3587847\n",
            "Step:  10  -- loss is  1.9457934\n",
            "Step:  11  -- loss is  1.8766103\n",
            "Step:  12  -- loss is  1.3850582\n",
            "Step:  13  -- loss is  1.4694431\n",
            "Step:  14  -- loss is  2.4925623\n",
            "Step:  15  -- loss is  2.0168424\n",
            "Step:  16  -- loss is  1.5226643\n",
            "Step:  17  -- loss is  2.0112228\n",
            "Step:  18  -- loss is  1.1317617\n",
            "Step:  19  -- loss is  0.9593946\n",
            "Step:  20  -- loss is  1.1414422\n",
            "Step:  21  -- loss is  1.0333399\n",
            "Step:  22  -- loss is  0.9931321\n",
            "Step:  23  -- loss is  1.5105004\n",
            "Step:  24  -- loss is  0.71253186\n",
            "Step:  25  -- loss is  0.9798255\n",
            "Step:  26  -- loss is  1.3416811\n",
            "Step:  27  -- loss is  1.2786632\n",
            "Step:  28  -- loss is  0.52184665\n",
            "Step:  29  -- loss is  0.4873861\n",
            "Step:  30  -- loss is  0.82913506\n",
            "Step:  31  -- loss is  0.7877417\n",
            "Step:  32  -- loss is  0.21687365\n",
            "Step:  33  -- loss is  0.35221374\n",
            "Step:  34  -- loss is  0.7229353\n",
            "Step:  35  -- loss is  0.9207318\n",
            "Step:  36  -- loss is  0.4685313\n",
            "Step:  37  -- loss is  0.53126293\n",
            "Step:  38  -- loss is  0.9940481\n",
            "Step:  39  -- loss is  0.4145263\n",
            "Step:  40  -- loss is  0.7976687\n",
            "Step:  41  -- loss is  0.48000047\n",
            "Step:  42  -- loss is  0.45261377\n",
            "Step:  43  -- loss is  0.26977494\n",
            "Step:  44  -- loss is  0.22341411\n",
            "Step:  45  -- loss is  0.24759701\n",
            "Step:  46  -- loss is  0.6577138\n",
            "Step:  47  -- loss is  0.74471533\n",
            "Step:  48  -- loss is  0.08119645\n",
            "Step:  49  -- loss is  0.8702269\n",
            "Step:  50  -- loss is  0.32168218\n",
            "Step:  51  -- loss is  0.56568134\n",
            "Step:  52  -- loss is  0.23447822\n",
            "Step:  53  -- loss is  0.7273606\n",
            "Step:  54  -- loss is  0.12019241\n",
            "Step:  55  -- loss is  0.61940175\n",
            "Step:  56  -- loss is  0.20229456\n",
            "Step:  57  -- loss is  0.36260715\n",
            "Step:  58  -- loss is  0.48620093\n",
            "Step:  59  -- loss is  0.51487184\n",
            "Step:  60  -- loss is  0.45751268\n",
            "Step:  61  -- loss is  0.32131928\n",
            "Step:  62  -- loss is  0.14259249\n",
            "Step:  63  -- loss is  0.16841283\n",
            "Step:  64  -- loss is  1.1682534\n",
            "Step:  65  -- loss is  0.29585677\n",
            "Step:  66  -- loss is  0.42389715\n",
            "Step:  67  -- loss is  0.18650728\n",
            "Step:  68  -- loss is  0.3694751\n",
            "Step:  69  -- loss is  0.45976564\n",
            "Step:  70  -- loss is  0.34139732\n",
            "Step:  71  -- loss is  0.2646446\n",
            "Step:  72  -- loss is  0.28782958\n",
            "Step:  73  -- loss is  0.18090688\n",
            "Step:  74  -- loss is  0.45420343\n",
            "Step:  75  -- loss is  0.37193808\n",
            "Step:  76  -- loss is  0.5472526\n",
            "Step:  77  -- loss is  0.4901011\n",
            "Step:  78  -- loss is  0.1859402\n",
            "Step:  79  -- loss is  0.67119086\n",
            "Step:  80  -- loss is  0.28244454\n",
            "Step:  81  -- loss is  0.27443004\n",
            "Step:  82  -- loss is  0.15941563\n",
            "Step:  83  -- loss is  0.038868383\n",
            "Step:  84  -- loss is  0.114539824\n",
            "Step:  85  -- loss is  0.25295344\n",
            "Step:  86  -- loss is  0.1025949\n",
            "Step:  87  -- loss is  0.18088016\n",
            "Step:  88  -- loss is  0.27859992\n",
            "Step:  89  -- loss is  0.12435633\n",
            "Step:  90  -- loss is  0.25536996\n",
            "Step:  91  -- loss is  0.3006092\n",
            "Step:  92  -- loss is  1.0864247\n",
            "Step:  93  -- loss is  0.1847843\n",
            "Step:  94  -- loss is  0.2543173\n",
            "Step:  95  -- loss is  0.13803795\n",
            "Step:  96  -- loss is  0.44264913\n",
            "Step:  97  -- loss is  0.65386873\n",
            "Step:  98  -- loss is  0.10059448\n",
            "Step:  99  -- loss is  0.41992745\n",
            "Step:  100  -- loss is  0.06713304\n",
            "Step:  101  -- loss is  0.29111418\n",
            "Step:  102  -- loss is  0.1776983\n",
            "Step:  103  -- loss is  0.5899523\n",
            "Step:  104  -- loss is  0.030093003\n",
            "Step:  105  -- loss is  0.14565198\n",
            "Step:  106  -- loss is  0.14073083\n",
            "Step:  107  -- loss is  0.58641815\n",
            "Step:  108  -- loss is  0.20524299\n",
            "Step:  109  -- loss is  0.049266048\n",
            "Step:  110  -- loss is  0.094321385\n",
            "Step:  111  -- loss is  0.17076439\n",
            "Step:  112  -- loss is  0.5699314\n",
            "Step:  113  -- loss is  0.38193768\n",
            "Step:  114  -- loss is  0.09905088\n",
            "Step:  115  -- loss is  0.1257793\n",
            "Step:  116  -- loss is  0.03880985\n",
            "Step:  117  -- loss is  0.08335541\n",
            "Step:  118  -- loss is  0.17299066\n",
            "Step:  119  -- loss is  0.5359138\n",
            "Step:  120  -- loss is  0.14635412\n",
            "Step:  121  -- loss is  0.10925039\n",
            "Step:  122  -- loss is  0.28749523\n",
            "Step:  123  -- loss is  0.39574146\n",
            "Step:  124  -- loss is  0.09457887\n",
            "Step:  125  -- loss is  0.04884946\n",
            "Step:  126  -- loss is  0.11543703\n",
            "Step:  127  -- loss is  0.085504934\n",
            "Step:  128  -- loss is  0.31805357\n",
            "Step:  129  -- loss is  0.45494032\n",
            "Step:  130  -- loss is  0.26833925\n",
            "Step:  131  -- loss is  0.3298613\n",
            "Step:  132  -- loss is  0.07310487\n",
            "Step:  133  -- loss is  0.28010362\n",
            "Step:  134  -- loss is  0.25004938\n",
            "Step:  135  -- loss is  0.10689527\n",
            "Step:  136  -- loss is  0.10662256\n",
            "Step:  137  -- loss is  0.51135635\n",
            "Step:  138  -- loss is  0.38850662\n",
            "Step:  139  -- loss is  0.19955856\n",
            "Step:  140  -- loss is  0.31846422\n",
            "Step:  141  -- loss is  0.22875828\n",
            "Step:  142  -- loss is  0.045563433\n",
            "Step:  143  -- loss is  0.059418555\n",
            "Step:  144  -- loss is  0.073149346\n",
            "Step:  145  -- loss is  0.052453853\n",
            "Step:  146  -- loss is  0.6934253\n",
            "Step:  147  -- loss is  0.1055784\n",
            "Step:  148  -- loss is  0.04355295\n",
            "Step:  149  -- loss is  0.16954622\n",
            "Step:  150  -- loss is  0.24580464\n",
            "Step:  151  -- loss is  0.026370667\n",
            "Step:  152  -- loss is  0.34932595\n",
            "Step:  153  -- loss is  0.1818693\n",
            "Step:  154  -- loss is  0.0335969\n",
            "Step:  155  -- loss is  0.19584936\n",
            "Step:  156  -- loss is  0.021109886\n"
          ],
          "name": "stdout"
        }
      ]
    },
    {
      "cell_type": "code",
      "metadata": {
        "id": "-L0n2YOFdRRV",
        "colab_type": "code",
        "outputId": "a62d9ba4-4fb2-4758-aa87-44f48fd50502",
        "colab": {
          "base_uri": "https://localhost:8080/",
          "height": 281
        }
      },
      "source": [
        "plt.plot(np.arange(len(loss_history)), loss_history)"
      ],
      "execution_count": 0,
      "outputs": [
        {
          "output_type": "execute_result",
          "data": {
            "text/plain": [
              "[<matplotlib.lines.Line2D at 0x7f877fd31518>]"
            ]
          },
          "metadata": {
            "tags": []
          },
          "execution_count": 25
        },
        {
          "output_type": "display_data",
          "data": {
            "image/png": "[encoded data removed]",
            "text/plain": [
              "<Figure size 432x288 with 1 Axes>"
            ]
          },
          "metadata": {
            "tags": []
          }
        }
      ]
    },
    {
      "cell_type": "code",
      "metadata": {
        "id": "4HArrsq5eJqT",
        "colab_type": "code",
        "colab": {}
      },
      "source": [
        "# чтобы работал оптимизатор, вынесем слой отдельно\n",
        "softmax = torch.nn.Softmax(dim=1)\n",
        "\n",
        "output_probabilities = softmax(model(torch.tensor(X_test).float()))"
      ],
      "execution_count": 0,
      "outputs": []
    },
    {
      "cell_type": "code",
      "metadata": {
        "id": "_5vl7BwBfmui",
        "colab_type": "code",
        "outputId": "8f4067f3-83a2-4e01-a934-d7dadc18ac18",
        "colab": {
          "base_uri": "https://localhost:8080/",
          "height": 67
        }
      },
      "source": [
        "output_probabilities[0]\n",
        "# 2.9006e-04 = 2.9006 * 10^(-4)"
      ],
      "execution_count": 0,
      "outputs": [
        {
          "output_type": "execute_result",
          "data": {
            "text/plain": [
              "tensor([2.9006e-04, 1.3138e-03, 1.9780e-04, 3.4391e-03, 9.3359e-06, 2.4752e-04,\n",
              "        4.5266e-05, 1.4181e-04, 3.9245e-03, 9.9039e-01],\n",
              "       grad_fn=<SelectBackward>)"
            ]
          },
          "metadata": {
            "tags": []
          },
          "execution_count": 30
        }
      ]
    },
    {
      "cell_type": "code",
      "metadata": {
        "id": "MiH9YKUDfra4",
        "colab_type": "code",
        "outputId": "6034f3b4-e816-4b93-c6fa-3f6e826a27b3",
        "colab": {
          "base_uri": "https://localhost:8080/",
          "height": 33
        }
      },
      "source": [
        "output_probabilities[0] == max(output_probabilities[0])\n",
        "# 9.9039e-01 = 9.9039 * 10^(-1) = 0.99039 = 99% -- вероятность того, что это цифра 9"
      ],
      "execution_count": 0,
      "outputs": [
        {
          "output_type": "execute_result",
          "data": {
            "text/plain": [
              "tensor([False, False, False, False, False, False, False, False, False,  True])"
            ]
          },
          "metadata": {
            "tags": []
          },
          "execution_count": 31
        }
      ]
    },
    {
      "cell_type": "code",
      "metadata": {
        "id": "-ZOyL-4jgHUC",
        "colab_type": "code",
        "outputId": "9ef1e3c2-667e-4a53-9ada-f492c1b952aa",
        "colab": {
          "base_uri": "https://localhost:8080/",
          "height": 281
        }
      },
      "source": [
        "plt.imshow(X_test[0, :].reshape(8, 8))"
      ],
      "execution_count": 0,
      "outputs": [
        {
          "output_type": "execute_result",
          "data": {
            "text/plain": [
              "<matplotlib.image.AxesImage at 0x7f877fcae978>"
            ]
          },
          "metadata": {
            "tags": []
          },
          "execution_count": 32
        },
        {
          "output_type": "display_data",
          "data": {
            "image/png": "[encoded data removed]",
            "text/plain": [
              "<Figure size 432x288 with 1 Axes>"
            ]
          },
          "metadata": {
            "tags": []
          }
        }
      ]
    },
    {
      "cell_type": "code",
      "metadata": {
        "id": "aq5R72Pvgg1y",
        "colab_type": "code",
        "outputId": "d2aca3d3-19b9-46aa-84a0-93c6ea61bcbe",
        "colab": {
          "base_uri": "https://localhost:8080/",
          "height": 33
        }
      },
      "source": [
        "y_test[0]"
      ],
      "execution_count": 0,
      "outputs": [
        {
          "output_type": "execute_result",
          "data": {
            "text/plain": [
              "9"
            ]
          },
          "metadata": {
            "tags": []
          },
          "execution_count": 33
        }
      ]
    },
    {
      "cell_type": "code",
      "metadata": {
        "id": "Fg4q-Vv6g5LU",
        "colab_type": "code",
        "outputId": "de185367-f82e-4173-e832-54c0222be1cf",
        "colab": {
          "base_uri": "https://localhost:8080/",
          "height": 67
        }
      },
      "source": [
        "output_probabilities[100]"
      ],
      "execution_count": 0,
      "outputs": [
        {
          "output_type": "execute_result",
          "data": {
            "text/plain": [
              "tensor([3.2039e-03, 4.4982e-04, 2.0824e-05, 1.1835e-05, 9.8277e-01, 3.4916e-06,\n",
              "        7.7117e-04, 5.9266e-03, 6.8199e-03, 1.9098e-05],\n",
              "       grad_fn=<SelectBackward>)"
            ]
          },
          "metadata": {
            "tags": []
          },
          "execution_count": 38
        }
      ]
    },
    {
      "cell_type": "code",
      "metadata": {
        "id": "cbJn998ugk1B",
        "colab_type": "code",
        "outputId": "3dc45e83-1358-4db6-bd4c-73d0d49b47d0",
        "colab": {
          "base_uri": "https://localhost:8080/",
          "height": 33
        }
      },
      "source": [
        "\n",
        "output_probabilities[100] == max(output_probabilities[100])"
      ],
      "execution_count": 0,
      "outputs": [
        {
          "output_type": "execute_result",
          "data": {
            "text/plain": [
              "tensor([False, False, False, False,  True, False, False, False, False, False])"
            ]
          },
          "metadata": {
            "tags": []
          },
          "execution_count": 35
        }
      ]
    },
    {
      "cell_type": "code",
      "metadata": {
        "id": "lxmv24YVgpyD",
        "colab_type": "code",
        "outputId": "88f10fb4-b334-436c-f52f-2fb683665968",
        "colab": {
          "base_uri": "https://localhost:8080/",
          "height": 281
        }
      },
      "source": [
        "plt.imshow(X_test[100, :].reshape(8, 8))"
      ],
      "execution_count": 0,
      "outputs": [
        {
          "output_type": "execute_result",
          "data": {
            "text/plain": [
              "<matplotlib.image.AxesImage at 0x7f877fc07c50>"
            ]
          },
          "metadata": {
            "tags": []
          },
          "execution_count": 36
        },
        {
          "output_type": "display_data",
          "data": {
            "image/png": "[encoded data removed]",
            "text/plain": [
              "<Figure size 432x288 with 1 Axes>"
            ]
          },
          "metadata": {
            "tags": []
          }
        }
      ]
    },
    {
      "cell_type": "code",
      "metadata": {
        "id": "pcQ-SpbpgxrF",
        "colab_type": "code",
        "outputId": "4727eba5-bfd6-4dc1-f8fc-3bf331b96421",
        "colab": {
          "base_uri": "https://localhost:8080/",
          "height": 33
        }
      },
      "source": [
        "y_test[100]"
      ],
      "execution_count": 0,
      "outputs": [
        {
          "output_type": "execute_result",
          "data": {
            "text/plain": [
              "4"
            ]
          },
          "metadata": {
            "tags": []
          },
          "execution_count": 37
        }
      ]
    },
    {
      "cell_type": "code",
      "metadata": {
        "id": "MIDH81N6g20O",
        "colab_type": "code",
        "colab": {}
      },
      "source": [
        ""
      ],
      "execution_count": 0,
      "outputs": []
    },
    {
      "cell_type": "code",
      "metadata": {
        "id": "xpBcLJgohLxX",
        "colab_type": "code",
        "colab": {}
      },
      "source": [
        ""
      ],
      "execution_count": 0,
      "outputs": []
    },
    {
      "cell_type": "markdown",
      "metadata": {
        "id": "Fcw9uuCGhMmp",
        "colab_type": "text"
      },
      "source": [
        "Более продвинутая модель"
      ]
    },
    {
      "cell_type": "code",
      "metadata": {
        "id": "3o4BLHXjhQGd",
        "colab_type": "code",
        "colab": {}
      },
      "source": [
        "cool"
      ],
      "execution_count": 0,
      "outputs": []
    }
  ]
}