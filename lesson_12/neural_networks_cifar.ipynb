{
  "nbformat": 4,
  "nbformat_minor": 0,
  "metadata": {
    "colab": {
      "name": "neural_networks_cifar.ipynb",
      "provenance": [],
      "collapsed_sections": []
    },
    "kernelspec": {
      "name": "python3",
      "display_name": "Python 3"
    }
  },
  "cells": [
    {
      "cell_type": "code",
      "metadata": {
        "id": "wXAXKPkWUQiQ",
        "colab_type": "code",
        "colab": {}
      },
      "source": [
        "import numpy as np\n",
        "import matplotlib.pyplot as plt\n",
        "import torch # библиотека для работы с нейронными сетями"
      ],
      "execution_count": 0,
      "outputs": []
    },
    {
      "cell_type": "code",
      "metadata": {
        "id": "4x5SsRN-UY-C",
        "colab_type": "code",
        "colab": {}
      },
      "source": [
        "from sklearn.datasets import load_digits\n",
        "digits = load_digits()"
      ],
      "execution_count": 0,
      "outputs": []
    },
    {
      "cell_type": "code",
      "metadata": {
        "id": "VAEQgKvSUa8e",
        "colab_type": "code",
        "outputId": "cbd0a8be-a165-41b0-fae8-21125655732e",
        "colab": {
          "base_uri": "https://localhost:8080/",
          "height": 34
        }
      },
      "source": [
        "digits.keys()"
      ],
      "execution_count": 0,
      "outputs": [
        {
          "output_type": "execute_result",
          "data": {
            "text/plain": [
              "dict_keys(['data', 'target', 'target_names', 'images', 'DESCR'])"
            ]
          },
          "metadata": {
            "tags": []
          },
          "execution_count": 4
        }
      ]
    },
    {
      "cell_type": "code",
      "metadata": {
        "id": "oZ2dhwmRVfSQ",
        "colab_type": "code",
        "outputId": "be2ddcdf-58cc-4852-ed26-8f2e990054e6",
        "colab": {
          "base_uri": "https://localhost:8080/",
          "height": 138
        }
      },
      "source": [
        "digits['data']"
      ],
      "execution_count": 0,
      "outputs": [
        {
          "output_type": "execute_result",
          "data": {
            "text/plain": [
              "array([[ 0.,  0.,  5., ...,  0.,  0.,  0.],\n",
              "       [ 0.,  0.,  0., ..., 10.,  0.,  0.],\n",
              "       [ 0.,  0.,  0., ..., 16.,  9.,  0.],\n",
              "       ...,\n",
              "       [ 0.,  0.,  1., ...,  6.,  0.,  0.],\n",
              "       [ 0.,  0.,  2., ..., 12.,  0.,  0.],\n",
              "       [ 0.,  0., 10., ..., 12.,  1.,  0.]])"
            ]
          },
          "metadata": {
            "tags": []
          },
          "execution_count": 5
        }
      ]
    },
    {
      "cell_type": "code",
      "metadata": {
        "id": "us5ESI6cVleV",
        "colab_type": "code",
        "outputId": "4c7960f9-e20e-47c8-937d-7db722be3586",
        "colab": {
          "base_uri": "https://localhost:8080/",
          "height": 34
        }
      },
      "source": [
        "digits['target']"
      ],
      "execution_count": 0,
      "outputs": [
        {
          "output_type": "execute_result",
          "data": {
            "text/plain": [
              "array([0, 1, 2, ..., 8, 9, 8])"
            ]
          },
          "metadata": {
            "tags": []
          },
          "execution_count": 6
        }
      ]
    },
    {
      "cell_type": "code",
      "metadata": {
        "id": "z55FD0gPVzQb",
        "colab_type": "code",
        "outputId": "022de151-013f-4f0d-ee46-e1129ebd1b6e",
        "colab": {
          "base_uri": "https://localhost:8080/",
          "height": 34
        }
      },
      "source": [
        "digits['target_names']"
      ],
      "execution_count": 0,
      "outputs": [
        {
          "output_type": "execute_result",
          "data": {
            "text/plain": [
              "array([0, 1, 2, 3, 4, 5, 6, 7, 8, 9])"
            ]
          },
          "metadata": {
            "tags": []
          },
          "execution_count": 7
        }
      ]
    },
    {
      "cell_type": "code",
      "metadata": {
        "id": "y7Rlg14TV4D1",
        "colab_type": "code",
        "outputId": "a720f369-c44d-46aa-ad2e-8d2bb54bdd0f",
        "colab": {
          "base_uri": "https://localhost:8080/",
          "height": 786
        }
      },
      "source": [
        "print(digits['DESCR'])"
      ],
      "execution_count": 0,
      "outputs": [
        {
          "output_type": "stream",
          "text": [
            ".. _digits_dataset:\n",
            "\n",
            "Optical recognition of handwritten digits dataset\n",
            "--------------------------------------------------\n",
            "\n",
            "**Data Set Characteristics:**\n",
            "\n",
            "    :Number of Instances: 5620\n",
            "    :Number of Attributes: 64\n",
            "    :Attribute Information: 8x8 image of integer pixels in the range 0..16.\n",
            "    :Missing Attribute Values: None\n",
            "    :Creator: E. Alpaydin (alpaydin '@' boun.edu.tr)\n",
            "    :Date: July; 1998\n",
            "\n",
            "This is a copy of the test set of the UCI ML hand-written digits datasets\n",
            "https://archive.ics.uci.edu/ml/datasets/Optical+Recognition+of+Handwritten+Digits\n",
            "\n",
            "The data set contains images of hand-written digits: 10 classes where\n",
            "each class refers to a digit.\n",
            "\n",
            "Preprocessing programs made available by NIST were used to extract\n",
            "normalized bitmaps of handwritten digits from a preprinted form. From a\n",
            "total of 43 people, 30 contributed to the training set and different 13\n",
            "to the test set. 32x32 bitmaps are divided into nonoverlapping blocks of\n",
            "4x4 and the number of on pixels are counted in each block. This generates\n",
            "an input matrix of 8x8 where each element is an integer in the range\n",
            "0..16. This reduces dimensionality and gives invariance to small\n",
            "distortions.\n",
            "\n",
            "For info on NIST preprocessing routines, see M. D. Garris, J. L. Blue, G.\n",
            "T. Candela, D. L. Dimmick, J. Geist, P. J. Grother, S. A. Janet, and C.\n",
            "L. Wilson, NIST Form-Based Handprint Recognition System, NISTIR 5469,\n",
            "1994.\n",
            "\n",
            ".. topic:: References\n",
            "\n",
            "  - C. Kaynak (1995) Methods of Combining Multiple Classifiers and Their\n",
            "    Applications to Handwritten Digit Recognition, MSc Thesis, Institute of\n",
            "    Graduate Studies in Science and Engineering, Bogazici University.\n",
            "  - E. Alpaydin, C. Kaynak (1998) Cascading Classifiers, Kybernetika.\n",
            "  - Ken Tang and Ponnuthurai N. Suganthan and Xi Yao and A. Kai Qin.\n",
            "    Linear dimensionalityreduction using relevance weighted LDA. School of\n",
            "    Electrical and Electronic Engineering Nanyang Technological University.\n",
            "    2005.\n",
            "  - Claudio Gentile. A New Approximate Maximal Margin Classification\n",
            "    Algorithm. NIPS. 2000.\n"
          ],
          "name": "stdout"
        }
      ]
    },
    {
      "cell_type": "code",
      "metadata": {
        "id": "dP-oXjGjWB9m",
        "colab_type": "code",
        "colab": {}
      },
      "source": [
        "X = digits['data']\n",
        "Y = digits['target']"
      ],
      "execution_count": 0,
      "outputs": []
    },
    {
      "cell_type": "code",
      "metadata": {
        "id": "o3UgYS1aWTX_",
        "colab_type": "code",
        "outputId": "a5e71a27-f9f9-48ef-f62a-ddee73e818e9",
        "colab": {
          "base_uri": "https://localhost:8080/",
          "height": 34
        }
      },
      "source": [
        "X.shape"
      ],
      "execution_count": 0,
      "outputs": [
        {
          "output_type": "execute_result",
          "data": {
            "text/plain": [
              "(1797, 64)"
            ]
          },
          "metadata": {
            "tags": []
          },
          "execution_count": 9
        }
      ]
    },
    {
      "cell_type": "code",
      "metadata": {
        "id": "w791A76rWVZC",
        "colab_type": "code",
        "outputId": "b406007f-51ff-47ff-9c47-87f1a801e9f4",
        "colab": {
          "base_uri": "https://localhost:8080/",
          "height": 282
        }
      },
      "source": [
        "plt.gray()\n",
        "plt.imshow(X[500,:].reshape(8, 8))"
      ],
      "execution_count": 0,
      "outputs": [
        {
          "output_type": "execute_result",
          "data": {
            "text/plain": [
              "<matplotlib.image.AxesImage at 0x7f4e6b8050b8>"
            ]
          },
          "metadata": {
            "tags": []
          },
          "execution_count": 10
        },
        {
          "output_type": "display_data",
          "data": {
            "image/png": "[encoded data removed]",
            "text/plain": [
              "<Figure size 432x288 with 1 Axes>"
            ]
          },
          "metadata": {
            "tags": []
          }
        }
      ]
    },
    {
      "cell_type": "code",
      "metadata": {
        "id": "Y2ZuT5jmWrQv",
        "colab_type": "code",
        "outputId": "49badae4-8c23-48b1-9cff-41e5cc65bcae",
        "colab": {
          "base_uri": "https://localhost:8080/",
          "height": 34
        }
      },
      "source": [
        "Y[500]"
      ],
      "execution_count": 0,
      "outputs": [
        {
          "output_type": "execute_result",
          "data": {
            "text/plain": [
              "8"
            ]
          },
          "metadata": {
            "tags": []
          },
          "execution_count": 11
        }
      ]
    },
    {
      "cell_type": "code",
      "metadata": {
        "id": "6GdE5Vb-W5lb",
        "colab_type": "code",
        "colab": {}
      },
      "source": [
        "from sklearn.model_selection import train_test_split\n",
        "\n",
        "X_train, X_test, y_train, y_test = train_test_split(X, Y, test_size = 0.3)"
      ],
      "execution_count": 0,
      "outputs": []
    },
    {
      "cell_type": "code",
      "metadata": {
        "id": "byHOrwQ-XZnW",
        "colab_type": "code",
        "colab": {}
      },
      "source": [
        ""
      ],
      "execution_count": 0,
      "outputs": []
    },
    {
      "cell_type": "markdown",
      "metadata": {
        "id": "v3VmfcS4XfZI",
        "colab_type": "text"
      },
      "source": [
        "Простая модель"
      ]
    },
    {
      "cell_type": "code",
      "metadata": {
        "id": "6nqBIDLRXgmP",
        "colab_type": "code",
        "colab": {}
      },
      "source": [
        "model = torch.nn.Sequential(\n",
        "    torch.nn.Linear(64, 256), # 256 -- количество нейронов в линейном слое\n",
        "    torch.nn.LeakyReLU(),\n",
        "    torch.nn.Linear(256, 10)\n",
        ")"
      ],
      "execution_count": 0,
      "outputs": []
    },
    {
      "cell_type": "code",
      "metadata": {
        "id": "el1UNLJOZI_G",
        "colab_type": "code",
        "colab": {}
      },
      "source": [
        "optimizer = torch.optim.Adam(model.parameters(), lr=0.001)"
      ],
      "execution_count": 0,
      "outputs": []
    },
    {
      "cell_type": "code",
      "metadata": {
        "id": "rNNXmcuKZohI",
        "colab_type": "code",
        "colab": {}
      },
      "source": [
        "loss = torch.nn.CrossEntropyLoss()"
      ],
      "execution_count": 0,
      "outputs": []
    },
    {
      "cell_type": "code",
      "metadata": {
        "id": "cPrx34oDaFIq",
        "colab_type": "code",
        "outputId": "93e4b6b4-2235-4ff6-9854-decbbc330123",
        "colab": {
          "base_uri": "https://localhost:8080/",
          "height": 1000
        }
      },
      "source": [
        "BATCH_SIZE = 8\n",
        "loss_history = [] # ошибки после каждого прогона\n",
        "\n",
        "for i in range(len(X_train) // BATCH_SIZE):\n",
        "  X_batch = X_train[i * BATCH_SIZE : (i+1) * BATCH_SIZE]\n",
        "  y_batch = y_train[i * BATCH_SIZE : (i+1) * BATCH_SIZE]\n",
        "\n",
        "  # torch.tensor -- формат, понятный torch\n",
        "  X_batch = torch.tensor(X_batch)\n",
        "  y_batch = torch.tensor(y_batch)\n",
        "\n",
        "  # прогоняем батч через нейронную сеть\n",
        "  nn_output = model(X_batch.float()) # .float() -- чтобы без ошибки\n",
        "  # функция ошибки\n",
        "  computed_loss = loss(nn_output, y_batch)\n",
        "  # добавим в историю ошибок\n",
        "  loss_history.append(computed_loss.data.numpy())\n",
        "\n",
        "  print('Step: ', str(i), ' -- loss is ', str(computed_loss.data.numpy()))\n",
        "\n",
        "  # стандартные команды torch для обучения\n",
        "  computed_loss.backward()\n",
        "  optimizer.step()\n",
        "  optimizer.zero_grad() # математическое условие сходимости к минимуму"
      ],
      "execution_count": 0,
      "outputs": [
        {
          "output_type": "stream",
          "text": [
            "Step:  0  -- loss is  3.5239873\n",
            "Step:  1  -- loss is  3.021093\n",
            "Step:  2  -- loss is  2.6210856\n",
            "Step:  3  -- loss is  2.4946454\n",
            "Step:  4  -- loss is  3.5632606\n",
            "Step:  5  -- loss is  2.990694\n",
            "Step:  6  -- loss is  3.2387648\n",
            "Step:  7  -- loss is  2.9135842\n",
            "Step:  8  -- loss is  1.8995981\n",
            "Step:  9  -- loss is  1.7991363\n",
            "Step:  10  -- loss is  2.3440814\n",
            "Step:  11  -- loss is  1.6640636\n",
            "Step:  12  -- loss is  1.9679308\n",
            "Step:  13  -- loss is  1.2705148\n",
            "Step:  14  -- loss is  2.0617085\n",
            "Step:  15  -- loss is  1.6012833\n",
            "Step:  16  -- loss is  1.1198379\n",
            "Step:  17  -- loss is  1.1206726\n",
            "Step:  18  -- loss is  1.3317882\n",
            "Step:  19  -- loss is  1.3344475\n",
            "Step:  20  -- loss is  1.7149563\n",
            "Step:  21  -- loss is  0.47129136\n",
            "Step:  22  -- loss is  1.3145236\n",
            "Step:  23  -- loss is  0.9887889\n",
            "Step:  24  -- loss is  1.0425347\n",
            "Step:  25  -- loss is  0.77051467\n",
            "Step:  26  -- loss is  0.8995127\n",
            "Step:  27  -- loss is  0.9685884\n",
            "Step:  28  -- loss is  0.62475824\n",
            "Step:  29  -- loss is  0.8232967\n",
            "Step:  30  -- loss is  0.658743\n",
            "Step:  31  -- loss is  0.51193297\n",
            "Step:  32  -- loss is  1.0511103\n",
            "Step:  33  -- loss is  0.3636458\n",
            "Step:  34  -- loss is  1.0479302\n",
            "Step:  35  -- loss is  0.49721646\n",
            "Step:  36  -- loss is  0.32904798\n",
            "Step:  37  -- loss is  0.29454046\n",
            "Step:  38  -- loss is  0.5618605\n",
            "Step:  39  -- loss is  0.44449586\n",
            "Step:  40  -- loss is  0.58083886\n",
            "Step:  41  -- loss is  0.6641449\n",
            "Step:  42  -- loss is  0.18515864\n",
            "Step:  43  -- loss is  0.46388686\n",
            "Step:  44  -- loss is  0.66825795\n",
            "Step:  45  -- loss is  0.5257242\n",
            "Step:  46  -- loss is  1.06802\n",
            "Step:  47  -- loss is  1.5625162\n",
            "Step:  48  -- loss is  0.72657114\n",
            "Step:  49  -- loss is  0.31648147\n",
            "Step:  50  -- loss is  0.17277583\n",
            "Step:  51  -- loss is  0.14819656\n",
            "Step:  52  -- loss is  0.24846372\n",
            "Step:  53  -- loss is  0.33915812\n",
            "Step:  54  -- loss is  0.52245104\n",
            "Step:  55  -- loss is  0.6150012\n",
            "Step:  56  -- loss is  0.3356175\n",
            "Step:  57  -- loss is  0.24405195\n",
            "Step:  58  -- loss is  0.32461208\n",
            "Step:  59  -- loss is  0.61300147\n",
            "Step:  60  -- loss is  0.32374266\n",
            "Step:  61  -- loss is  0.7016249\n",
            "Step:  62  -- loss is  0.18779428\n",
            "Step:  63  -- loss is  0.3895959\n",
            "Step:  64  -- loss is  0.17998\n",
            "Step:  65  -- loss is  0.7115997\n",
            "Step:  66  -- loss is  0.3109678\n",
            "Step:  67  -- loss is  0.4982883\n",
            "Step:  68  -- loss is  0.2992839\n",
            "Step:  69  -- loss is  0.12308437\n",
            "Step:  70  -- loss is  0.62575877\n",
            "Step:  71  -- loss is  0.03332407\n",
            "Step:  72  -- loss is  0.24697438\n",
            "Step:  73  -- loss is  0.09884838\n",
            "Step:  74  -- loss is  0.21418203\n",
            "Step:  75  -- loss is  0.9924329\n",
            "Step:  76  -- loss is  0.08390691\n",
            "Step:  77  -- loss is  0.10750578\n",
            "Step:  78  -- loss is  0.6700429\n",
            "Step:  79  -- loss is  0.32110664\n",
            "Step:  80  -- loss is  0.1821841\n",
            "Step:  81  -- loss is  0.1272845\n",
            "Step:  82  -- loss is  0.29022175\n",
            "Step:  83  -- loss is  0.22369695\n",
            "Step:  84  -- loss is  0.30502528\n",
            "Step:  85  -- loss is  0.5113086\n",
            "Step:  86  -- loss is  0.43848592\n",
            "Step:  87  -- loss is  0.17224863\n",
            "Step:  88  -- loss is  0.25771445\n",
            "Step:  89  -- loss is  0.22086765\n",
            "Step:  90  -- loss is  0.5395654\n",
            "Step:  91  -- loss is  0.3067512\n",
            "Step:  92  -- loss is  0.07975358\n",
            "Step:  93  -- loss is  0.3844396\n",
            "Step:  94  -- loss is  0.18788241\n",
            "Step:  95  -- loss is  0.053638555\n",
            "Step:  96  -- loss is  0.3936484\n",
            "Step:  97  -- loss is  0.32289842\n",
            "Step:  98  -- loss is  0.5474359\n",
            "Step:  99  -- loss is  0.3629586\n",
            "Step:  100  -- loss is  0.39028984\n",
            "Step:  101  -- loss is  0.17835152\n",
            "Step:  102  -- loss is  0.04052008\n",
            "Step:  103  -- loss is  0.35669962\n",
            "Step:  104  -- loss is  0.8309485\n",
            "Step:  105  -- loss is  0.07885505\n",
            "Step:  106  -- loss is  0.28099284\n",
            "Step:  107  -- loss is  0.14051896\n",
            "Step:  108  -- loss is  0.15068235\n",
            "Step:  109  -- loss is  0.043415174\n",
            "Step:  110  -- loss is  1.1782308\n",
            "Step:  111  -- loss is  0.23097228\n",
            "Step:  112  -- loss is  0.458675\n",
            "Step:  113  -- loss is  0.8644254\n",
            "Step:  114  -- loss is  0.08703006\n",
            "Step:  115  -- loss is  0.10033165\n",
            "Step:  116  -- loss is  0.23103711\n",
            "Step:  117  -- loss is  0.23457232\n",
            "Step:  118  -- loss is  0.12721658\n",
            "Step:  119  -- loss is  0.0696742\n",
            "Step:  120  -- loss is  0.20334235\n",
            "Step:  121  -- loss is  0.41759357\n",
            "Step:  122  -- loss is  0.23852335\n",
            "Step:  123  -- loss is  0.22219859\n",
            "Step:  124  -- loss is  0.064994015\n",
            "Step:  125  -- loss is  0.23476027\n",
            "Step:  126  -- loss is  0.21438186\n",
            "Step:  127  -- loss is  0.4028886\n",
            "Step:  128  -- loss is  0.032151967\n",
            "Step:  129  -- loss is  0.528583\n",
            "Step:  130  -- loss is  0.22299527\n",
            "Step:  131  -- loss is  0.18996352\n",
            "Step:  132  -- loss is  0.02352839\n",
            "Step:  133  -- loss is  0.040965296\n",
            "Step:  134  -- loss is  0.8841912\n",
            "Step:  135  -- loss is  0.07252411\n",
            "Step:  136  -- loss is  0.07367428\n",
            "Step:  137  -- loss is  0.51473355\n",
            "Step:  138  -- loss is  0.27632666\n",
            "Step:  139  -- loss is  0.031494204\n",
            "Step:  140  -- loss is  0.15202798\n",
            "Step:  141  -- loss is  0.07876455\n",
            "Step:  142  -- loss is  0.16115694\n",
            "Step:  143  -- loss is  0.03197348\n",
            "Step:  144  -- loss is  0.11452396\n",
            "Step:  145  -- loss is  0.43262383\n",
            "Step:  146  -- loss is  0.27917406\n",
            "Step:  147  -- loss is  0.056878366\n",
            "Step:  148  -- loss is  0.08412765\n",
            "Step:  149  -- loss is  0.06215715\n",
            "Step:  150  -- loss is  0.39115247\n",
            "Step:  151  -- loss is  0.11213486\n",
            "Step:  152  -- loss is  0.20902811\n",
            "Step:  153  -- loss is  0.04739408\n",
            "Step:  154  -- loss is  0.036523845\n",
            "Step:  155  -- loss is  0.19011386\n",
            "Step:  156  -- loss is  0.060494214\n"
          ],
          "name": "stdout"
        }
      ]
    },
    {
      "cell_type": "code",
      "metadata": {
        "id": "-L0n2YOFdRRV",
        "colab_type": "code",
        "outputId": "e5d0255e-50db-41ef-c4c7-b72fbfd957a6",
        "colab": {
          "base_uri": "https://localhost:8080/",
          "height": 282
        }
      },
      "source": [
        "plt.plot(np.arange(len(loss_history)), loss_history)"
      ],
      "execution_count": 0,
      "outputs": [
        {
          "output_type": "execute_result",
          "data": {
            "text/plain": [
              "[<matplotlib.lines.Line2D at 0x7f4e6b78fac8>]"
            ]
          },
          "metadata": {
            "tags": []
          },
          "execution_count": 17
        },
        {
          "output_type": "display_data",
          "data": {
            "image/png": "[encoded data removed]",
            "text/plain": [
              "<Figure size 432x288 with 1 Axes>"
            ]
          },
          "metadata": {
            "tags": []
          }
        }
      ]
    },
    {
      "cell_type": "code",
      "metadata": {
        "id": "4HArrsq5eJqT",
        "colab_type": "code",
        "colab": {}
      },
      "source": [
        "# чтобы работал оптимизатор, вынесем слой отдельно\n",
        "softmax = torch.nn.Softmax(dim=1)\n",
        "\n",
        "output_probabilities = softmax(model(torch.tensor(X_test).float()))"
      ],
      "execution_count": 0,
      "outputs": []
    },
    {
      "cell_type": "code",
      "metadata": {
        "id": "Y08FbMVsiWKR",
        "colab_type": "code",
        "outputId": "6a8bfb9a-f1c0-4888-cf30-ccd5e85bb7f4",
        "colab": {
          "base_uri": "https://localhost:8080/",
          "height": 242
        }
      },
      "source": [
        "output_probabilities"
      ],
      "execution_count": 0,
      "outputs": [
        {
          "output_type": "execute_result",
          "data": {
            "text/plain": [
              "tensor([[4.3835e-04, 2.1487e-03, 4.7261e-05,  ..., 3.2925e-02, 1.2003e-03,\n",
              "         9.3674e-03],\n",
              "        [9.8549e-01, 4.3825e-06, 9.5769e-05,  ..., 1.0173e-05, 3.2988e-04,\n",
              "         3.4269e-03],\n",
              "        [2.9698e-04, 1.0949e-04, 2.7741e-05,  ..., 5.9389e-05, 9.1255e-01,\n",
              "         2.6714e-02],\n",
              "        ...,\n",
              "        [2.2303e-06, 4.6325e-04, 4.3616e-04,  ..., 3.2583e-05, 4.8185e-04,\n",
              "         1.6968e-04],\n",
              "        [9.1133e-01, 8.8646e-07, 2.9195e-04,  ..., 2.7714e-04, 1.2371e-03,\n",
              "         8.3205e-02],\n",
              "        [6.1807e-03, 7.6112e-05, 3.1133e-04,  ..., 2.0478e-06, 1.7854e-03,\n",
              "         2.1625e-05]], grad_fn=<SoftmaxBackward>)"
            ]
          },
          "metadata": {
            "tags": []
          },
          "execution_count": 19
        }
      ]
    },
    {
      "cell_type": "code",
      "metadata": {
        "id": "_5vl7BwBfmui",
        "colab_type": "code",
        "outputId": "777bd14f-7565-45c7-fba6-7a53731bdb1e",
        "colab": {
          "base_uri": "https://localhost:8080/",
          "height": 69
        }
      },
      "source": [
        "output_probabilities[0]\n",
        "# 4.3835e-04 = 4.3835 * 10^(-4)"
      ],
      "execution_count": 0,
      "outputs": [
        {
          "output_type": "execute_result",
          "data": {
            "text/plain": [
              "tensor([4.3835e-04, 2.1487e-03, 4.7261e-05, 3.1478e-05, 9.3946e-01, 1.3712e-02,\n",
              "        6.6663e-04, 3.2925e-02, 1.2003e-03, 9.3674e-03],\n",
              "       grad_fn=<SelectBackward>)"
            ]
          },
          "metadata": {
            "tags": []
          },
          "execution_count": 20
        }
      ]
    },
    {
      "cell_type": "code",
      "metadata": {
        "id": "MiH9YKUDfra4",
        "colab_type": "code",
        "outputId": "88f1c62b-16dc-4c72-b0ea-b66d70a6ab7f",
        "colab": {
          "base_uri": "https://localhost:8080/",
          "height": 34
        }
      },
      "source": [
        "output_probabilities[0] == max(output_probabilities[0])\n",
        "# 9.3946e-01 = 9.3946 * 10^(-1) = 0.93946 = 93% -- вероятность того, что это цифра 9"
      ],
      "execution_count": 0,
      "outputs": [
        {
          "output_type": "execute_result",
          "data": {
            "text/plain": [
              "tensor([False, False, False, False,  True, False, False, False, False, False])"
            ]
          },
          "metadata": {
            "tags": []
          },
          "execution_count": 21
        }
      ]
    },
    {
      "cell_type": "code",
      "metadata": {
        "id": "-ZOyL-4jgHUC",
        "colab_type": "code",
        "outputId": "7ab08be1-9324-4692-d041-7ba076694ea5",
        "colab": {
          "base_uri": "https://localhost:8080/",
          "height": 282
        }
      },
      "source": [
        "plt.imshow(X_test[0, :].reshape(8, 8))"
      ],
      "execution_count": 0,
      "outputs": [
        {
          "output_type": "execute_result",
          "data": {
            "text/plain": [
              "<matplotlib.image.AxesImage at 0x7f4e6b601358>"
            ]
          },
          "metadata": {
            "tags": []
          },
          "execution_count": 22
        },
        {
          "output_type": "display_data",
          "data": {
            "image/png": "[encoded data removed]",
            "text/plain": [
              "<Figure size 432x288 with 1 Axes>"
            ]
          },
          "metadata": {
            "tags": []
          }
        }
      ]
    },
    {
      "cell_type": "code",
      "metadata": {
        "id": "aq5R72Pvgg1y",
        "colab_type": "code",
        "outputId": "fe44afae-ab20-4836-eb4f-0236bfc76f34",
        "colab": {
          "base_uri": "https://localhost:8080/",
          "height": 34
        }
      },
      "source": [
        "y_test[0]"
      ],
      "execution_count": 0,
      "outputs": [
        {
          "output_type": "execute_result",
          "data": {
            "text/plain": [
              "4"
            ]
          },
          "metadata": {
            "tags": []
          },
          "execution_count": 23
        }
      ]
    },
    {
      "cell_type": "code",
      "metadata": {
        "id": "Fg4q-Vv6g5LU",
        "colab_type": "code",
        "outputId": "5f8760de-aa94-4d4e-e048-b69871b4a174",
        "colab": {
          "base_uri": "https://localhost:8080/",
          "height": 69
        }
      },
      "source": [
        "output_probabilities[43]"
      ],
      "execution_count": 0,
      "outputs": [
        {
          "output_type": "execute_result",
          "data": {
            "text/plain": [
              "tensor([9.0621e-06, 3.7191e-03, 9.9076e-01, 1.4927e-03, 1.2317e-05, 2.0794e-03,\n",
              "        1.2203e-04, 1.9881e-04, 1.3858e-03, 2.1618e-04],\n",
              "       grad_fn=<SelectBackward>)"
            ]
          },
          "metadata": {
            "tags": []
          },
          "execution_count": 28
        }
      ]
    },
    {
      "cell_type": "code",
      "metadata": {
        "id": "cbJn998ugk1B",
        "colab_type": "code",
        "outputId": "c97a923f-c7ab-4766-afc1-56883ceeb35d",
        "colab": {
          "base_uri": "https://localhost:8080/",
          "height": 34
        }
      },
      "source": [
        "output_probabilities[43] == max(output_probabilities[43])"
      ],
      "execution_count": 0,
      "outputs": [
        {
          "output_type": "execute_result",
          "data": {
            "text/plain": [
              "tensor([False, False,  True, False, False, False, False, False, False, False])"
            ]
          },
          "metadata": {
            "tags": []
          },
          "execution_count": 30
        }
      ]
    },
    {
      "cell_type": "code",
      "metadata": {
        "id": "lxmv24YVgpyD",
        "colab_type": "code",
        "outputId": "8d44ff5d-4e61-42f9-c566-7b2d2b75a13f",
        "colab": {
          "base_uri": "https://localhost:8080/",
          "height": 282
        }
      },
      "source": [
        "plt.imshow(X_test[43, :].reshape(8, 8))"
      ],
      "execution_count": 0,
      "outputs": [
        {
          "output_type": "execute_result",
          "data": {
            "text/plain": [
              "<matplotlib.image.AxesImage at 0x7f4e69c91a58>"
            ]
          },
          "metadata": {
            "tags": []
          },
          "execution_count": 31
        },
        {
          "output_type": "display_data",
          "data": {
            "image/png": "[encoded data removed]",
            "text/plain": [
              "<Figure size 432x288 with 1 Axes>"
            ]
          },
          "metadata": {
            "tags": []
          }
        }
      ]
    },
    {
      "cell_type": "code",
      "metadata": {
        "id": "pcQ-SpbpgxrF",
        "colab_type": "code",
        "outputId": "766f82d4-c23b-40d8-c2b0-adafea98751f",
        "colab": {
          "base_uri": "https://localhost:8080/",
          "height": 34
        }
      },
      "source": [
        "y_test[43]"
      ],
      "execution_count": 0,
      "outputs": [
        {
          "output_type": "execute_result",
          "data": {
            "text/plain": [
              "2"
            ]
          },
          "metadata": {
            "tags": []
          },
          "execution_count": 32
        }
      ]
    },
    {
      "cell_type": "markdown",
      "metadata": {
        "id": "Fcw9uuCGhMmp",
        "colab_type": "text"
      },
      "source": [
        "Более продвинутая модель"
      ]
    },
    {
      "cell_type": "code",
      "metadata": {
        "id": "3o4BLHXjhQGd",
        "colab_type": "code",
        "colab": {}
      },
      "source": [
        "# в torch не реализован слой Flatten, напишем его сами\n",
        "class Flatten(torch.nn.Module):\n",
        "    # __call__ -- когда не создаём объект, а обращаемся к классу, как к функции\n",
        "    def __call__(self, X):\n",
        "      return X.reshape(X.shape[0], -1)\n",
        "\n",
        "cool_model = torch.nn.Sequential(\n",
        "    # kernel_size = размер фильтра\n",
        "    # in_chanels = 1, так как ч/б\n",
        "    # out_channels - число нейронов в следующем слое\n",
        "    # stride - шаг, с которым фильтр перемещается по картинке\n",
        "    torch.nn.Conv2d(kernel_size=3, in_channels=1, out_channels=64, stride=2),\n",
        "    torch.nn.Sigmoid(),\n",
        "\n",
        "    torch.nn.Conv2d(kernel_size=3, in_channels=64, out_channels=128, stride=2),\n",
        "    torch.nn.ELU(),\n",
        "    \n",
        "    Flatten(),\n",
        "    torch.nn.Linear(128, 10)\n",
        ")"
      ],
      "execution_count": 0,
      "outputs": []
    },
    {
      "cell_type": "code",
      "metadata": {
        "id": "qjQe7Q-ijwtx",
        "colab_type": "code",
        "colab": {}
      },
      "source": [
        "optimizer = torch.optim.Adam(model.parameters(), lr=0.001)\n",
        "loss = torch.nn.CrossEntropyLoss()"
      ],
      "execution_count": 0,
      "outputs": []
    },
    {
      "cell_type": "code",
      "metadata": {
        "id": "J8jtuxU-m7Nc",
        "colab_type": "code",
        "outputId": "8a7b2939-f222-4f7f-d928-737c34186757",
        "colab": {
          "base_uri": "https://localhost:8080/",
          "height": 536
        }
      },
      "source": [
        "BATCH_SIZE = 8\n",
        "loss_history = [] # ошибки после каждой эпохи\n",
        "n_epoch = 30\n",
        "\n",
        "from sklearn.model_selection import train_test_split\n",
        "\n",
        "X_train1, X_test, y_train1, y_test = train_test_split(X, Y, test_size = 0.3)\n",
        "\n",
        "for epoch in range(n_epoch):\n",
        "  \n",
        "  perm = np.random.choice(len(X_train1), len(X_train1))\n",
        "  X_train = X_train[perm]\n",
        "  y_train = y_train[perm]\n",
        "  \n",
        "  for i in range(len(X_train) // BATCH_SIZE):\n",
        "    X_batch = X_train[i * BATCH_SIZE : (i+1) * BATCH_SIZE]\n",
        "    y_batch = y_train[i * BATCH_SIZE : (i+1) * BATCH_SIZE]\n",
        "\n",
        "    # torch.tensor -- формат, понятный torch\n",
        "    X_batch = torch.tensor(X_batch.reshape(BATCH_SIZE, 1, 8, 8))\n",
        "    y_batch = torch.tensor(y_batch)\n",
        "\n",
        "    # прогоняем батч через нейронную сеть\n",
        "    nn_output = cool_model(X_batch.float()) # .float() -- чтобы без ошибки\n",
        "    # функция ошибки\n",
        "    computed_loss = loss(nn_output, y_batch)\n",
        "    # добавим в историю ошибок\n",
        "    loss_history.append(computed_loss.data.numpy())\n",
        "\n",
        "    # стандартные команды torch для обучения\n",
        "    computed_loss.backward()\n",
        "    optimizer.step()\n",
        "    optimizer.zero_grad() # математическое условие сходимости к минимуму\n",
        "\n",
        "  print('Epoch: ', str(epoch), ' -- loss is ', str(computed_loss.data.numpy()))"
      ],
      "execution_count": 0,
      "outputs": [
        {
          "output_type": "stream",
          "text": [
            "Epoch:  0  -- loss is  2.224749\n",
            "Epoch:  1  -- loss is  2.1065803\n",
            "Epoch:  2  -- loss is  2.2252614\n",
            "Epoch:  3  -- loss is  2.1614265\n",
            "Epoch:  4  -- loss is  2.2001688\n",
            "Epoch:  5  -- loss is  2.220571\n",
            "Epoch:  6  -- loss is  2.296393\n",
            "Epoch:  7  -- loss is  2.2425113\n",
            "Epoch:  8  -- loss is  2.2183127\n",
            "Epoch:  9  -- loss is  2.2582154\n",
            "Epoch:  10  -- loss is  2.2181976\n",
            "Epoch:  11  -- loss is  2.2637663\n",
            "Epoch:  12  -- loss is  2.2070527\n",
            "Epoch:  13  -- loss is  2.137125\n",
            "Epoch:  14  -- loss is  2.2678418\n",
            "Epoch:  15  -- loss is  2.234858\n",
            "Epoch:  16  -- loss is  2.302447\n",
            "Epoch:  17  -- loss is  2.1553507\n",
            "Epoch:  18  -- loss is  2.2698052\n",
            "Epoch:  19  -- loss is  2.1777039\n",
            "Epoch:  20  -- loss is  2.1862955\n",
            "Epoch:  21  -- loss is  2.2516043\n",
            "Epoch:  22  -- loss is  2.277451\n",
            "Epoch:  23  -- loss is  2.4773993\n",
            "Epoch:  24  -- loss is  2.1630437\n",
            "Epoch:  25  -- loss is  2.2398472\n",
            "Epoch:  26  -- loss is  2.418833\n",
            "Epoch:  27  -- loss is  2.2776315\n",
            "Epoch:  28  -- loss is  2.2151093\n",
            "Epoch:  29  -- loss is  2.2639627\n"
          ],
          "name": "stdout"
        }
      ]
    },
    {
      "cell_type": "code",
      "metadata": {
        "id": "Cva9_1hqoOyp",
        "colab_type": "code",
        "outputId": "01ee61ed-b4d9-4a78-964e-900f6187dbbe",
        "colab": {
          "base_uri": "https://localhost:8080/",
          "height": 285
        }
      },
      "source": [
        "plt.plot(np.arange(len(loss_history)), loss_history)\n",
        "# сеть не сошлась к минимуму, ошибка колеблется\n",
        "# требуется изменить параметры задания сети"
      ],
      "execution_count": 0,
      "outputs": [
        {
          "output_type": "execute_result",
          "data": {
            "text/plain": [
              "[<matplotlib.lines.Line2D at 0x7f4e69968e10>]"
            ]
          },
          "metadata": {
            "tags": []
          },
          "execution_count": 50
        },
        {
          "output_type": "display_data",
          "data": {
            "image/png": "[encoded data removed]",
            "text/plain": [
              "<Figure size 432x288 with 1 Axes>"
            ]
          },
          "metadata": {
            "tags": []
          }
        }
      ]
    },
    {
      "cell_type": "code",
      "metadata": {
        "id": "cYc2lOQip0Uo",
        "colab_type": "code",
        "colab": {}
      },
      "source": [
        "# чтобы работал оптимизатор, вынесем слой отдельно\n",
        "softmax = torch.nn.Softmax(dim=1)\n",
        "\n",
        "output_probabilities = softmax(cool_model(torch.tensor(X_test).float().reshape([-1, 1, 8, 8])))"
      ],
      "execution_count": 0,
      "outputs": []
    },
    {
      "cell_type": "code",
      "metadata": {
        "id": "6bLtUKACqPPR",
        "colab_type": "code",
        "outputId": "8d2a7633-264d-4b20-c226-c34a7c8d612b",
        "colab": {
          "base_uri": "https://localhost:8080/",
          "height": 34
        }
      },
      "source": [
        "output_probabilities[0] == max(output_probabilities[0])\n",
        "# сеть утверждает, что это 1"
      ],
      "execution_count": 0,
      "outputs": [
        {
          "output_type": "execute_result",
          "data": {
            "text/plain": [
              "tensor([ True, False, False, False, False, False, False, False, False, False])"
            ]
          },
          "metadata": {
            "tags": []
          },
          "execution_count": 52
        }
      ]
    },
    {
      "cell_type": "code",
      "metadata": {
        "id": "4aXVOLe_qUSC",
        "colab_type": "code",
        "outputId": "b035fa40-66eb-4470-ab50-744a09024f02",
        "colab": {
          "base_uri": "https://localhost:8080/",
          "height": 282
        }
      },
      "source": [
        "plt.imshow(X_test[0].reshape(8, 8))"
      ],
      "execution_count": 0,
      "outputs": [
        {
          "output_type": "execute_result",
          "data": {
            "text/plain": [
              "<matplotlib.image.AxesImage at 0x7f4e690900f0>"
            ]
          },
          "metadata": {
            "tags": []
          },
          "execution_count": 53
        },
        {
          "output_type": "display_data",
          "data": {
            "image/png": "[encoded data removed]",
            "text/plain": [
              "<Figure size 432x288 with 1 Axes>"
            ]
          },
          "metadata": {
            "tags": []
          }
        }
      ]
    },
    {
      "cell_type": "code",
      "metadata": {
        "id": "pWU_nO8_qaKN",
        "colab_type": "code",
        "outputId": "87594414-7c8e-4a49-b32d-6a41f00f1248",
        "colab": {
          "base_uri": "https://localhost:8080/",
          "height": 34
        }
      },
      "source": [
        "y_test[0]\n",
        "# но это 7"
      ],
      "execution_count": 0,
      "outputs": [
        {
          "output_type": "execute_result",
          "data": {
            "text/plain": [
              "7"
            ]
          },
          "metadata": {
            "tags": []
          },
          "execution_count": 54
        }
      ]
    },
    {
      "cell_type": "code",
      "metadata": {
        "id": "H3n4GidCqeNa",
        "colab_type": "code",
        "colab": {}
      },
      "source": [
        ""
      ],
      "execution_count": 0,
      "outputs": []
    }
  ]
}