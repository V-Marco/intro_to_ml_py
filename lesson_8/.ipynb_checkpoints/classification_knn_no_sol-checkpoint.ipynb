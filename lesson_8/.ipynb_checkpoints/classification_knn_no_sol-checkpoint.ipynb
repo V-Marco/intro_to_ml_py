{
 "cells": [
  {
   "cell_type": "markdown",
   "metadata": {},
   "source": [
    "## Введение в анализ данных и машинное обучение на Python"
   ]
  },
  {
   "cell_type": "markdown",
   "metadata": {},
   "source": [
    "### Тема 8: Задача классификации. kNN (14 декабря 2019)"
   ]
  },
  {
   "cell_type": "markdown",
   "metadata": {},
   "source": [
    "__kNN__ (_k Nearest Neighbours_ или *метод k ближайших соседей*) – один из простейших методов классификации и регрессии (но мы будем рассматривать его только для задачи классификации). \n",
    "\n",
    "Описание метода: \n",
    "1. Дана выборка $X$, $Y$. Этап «обучения»: «запомнить выборку».\n",
    "2. При поступлении нового наблюдения $x$:\n",
    "    1. Отсортировать все объекты обучающей выборки по расстоянию до $x$.\n",
    "    2. Выбрать класс, наиболее популярный среди $k$ ближайших соседей.\n",
    "    \n",
    "Число соседей ($k$) – __гиперпараметр__ алгоритма (задаётся из вне, подбирается).\n",
    "\n",
    "Основное предположение метода – гипотеза компактности."
   ]
  },
  {
   "cell_type": "markdown",
   "metadata": {},
   "source": [
    "Для тестирования метода рассмотрим набор данных `UniversalBank`, в котором содержится информация о характеристиках клиента и факте выдачи ему кредита."
   ]
  },
  {
   "cell_type": "code",
   "execution_count": null,
   "metadata": {},
   "outputs": [],
   "source": [
    "# Импорт библиотек"
   ]
  },
  {
   "cell_type": "code",
   "execution_count": null,
   "metadata": {},
   "outputs": [],
   "source": [
    "# Импорт данных"
   ]
  },
  {
   "cell_type": "code",
   "execution_count": null,
   "metadata": {},
   "outputs": [],
   "source": [
    "# Вывод первых наблюдений"
   ]
  },
  {
   "cell_type": "markdown",
   "metadata": {},
   "source": [
    "__Задание:__ Выделите зависимую переменную (`Personal Loan`). Обозначьте зависимую переменную `Y`. "
   ]
  },
  {
   "cell_type": "code",
   "execution_count": null,
   "metadata": {},
   "outputs": [],
   "source": []
  },
  {
   "cell_type": "markdown",
   "metadata": {},
   "source": [
    "__Задание:__ Выделите выборку из следующих характеристик клиента: возраст, опыт работы, доход, уровень образования. Обозначьте выборку как `X`."
   ]
  },
  {
   "cell_type": "code",
   "execution_count": null,
   "metadata": {},
   "outputs": [],
   "source": []
  },
  {
   "cell_type": "markdown",
   "metadata": {},
   "source": [
    "__Задание:__ Разделите выборку на обучающую и тестовую. Не забудьте зафиксировать `seed`."
   ]
  },
  {
   "cell_type": "code",
   "execution_count": null,
   "metadata": {},
   "outputs": [],
   "source": [
    "from sklearn.model_selection import train_test_split"
   ]
  },
  {
   "cell_type": "code",
   "execution_count": null,
   "metadata": {},
   "outputs": [],
   "source": []
  },
  {
   "cell_type": "markdown",
   "metadata": {},
   "source": [
    "__Задание:__ Обучите классификатор kNN для 1, 5 и 7 соседей. "
   ]
  },
  {
   "cell_type": "code",
   "execution_count": null,
   "metadata": {},
   "outputs": [],
   "source": [
    "from sklearn.neighbors import KNeighborsClassifier"
   ]
  },
  {
   "cell_type": "code",
   "execution_count": null,
   "metadata": {},
   "outputs": [],
   "source": []
  },
  {
   "cell_type": "markdown",
   "metadata": {},
   "source": [
    "__Задание:__ В каждом случае проверьте качество на обучающей и тестовой выборке, используя метрику `accuracy`. Прокомментируйте качество работы каждого алгоритма. Выберите лучший алгоритм."
   ]
  },
  {
   "cell_type": "code",
   "execution_count": null,
   "metadata": {},
   "outputs": [],
   "source": [
    "from sklearn.metrics import accuracy_score"
   ]
  },
  {
   "cell_type": "code",
   "execution_count": null,
   "metadata": {},
   "outputs": [],
   "source": []
  },
  {
   "cell_type": "markdown",
   "metadata": {},
   "source": [
    "__Задание:__ Создайте новое наблюдение: индивида с собственными характеристиками. Используя лучший классификатор, предскажите, получит ли он кредит."
   ]
  },
  {
   "cell_type": "code",
   "execution_count": null,
   "metadata": {},
   "outputs": [],
   "source": []
  }
 ],
 "metadata": {
  "kernelspec": {
   "display_name": "Python 3",
   "language": "python",
   "name": "python3"
  },
  "language_info": {
   "codemirror_mode": {
    "name": "ipython",
    "version": 3
   },
   "file_extension": ".py",
   "mimetype": "text/x-python",
   "name": "python",
   "nbconvert_exporter": "python",
   "pygments_lexer": "ipython3",
   "version": "3.7.3"
  }
 },
 "nbformat": 4,
 "nbformat_minor": 2
}
